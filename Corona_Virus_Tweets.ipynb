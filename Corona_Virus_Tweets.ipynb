{
  "nbformat": 4,
  "nbformat_minor": 0,
  "metadata": {
    "colab": {
      "name": "Corona-Virus-Tweets.ipynb",
      "provenance": []
    },
    "kernelspec": {
      "name": "python3",
      "display_name": "Python 3"
    }
  },
  "cells": [
    {
      "cell_type": "code",
      "metadata": {
        "id": "SMhv_Ro5uHS2",
        "outputId": "5180d49f-1e0e-4f91-d6de-85ae88b33274",
        "colab": {
          "base_uri": "https://localhost:8080/",
          "height": 683
        }
      },
      "source": [
        "!pip install tensorflow_text"
      ],
      "execution_count": null,
      "outputs": [
        {
          "output_type": "stream",
          "text": [
            "Requirement already satisfied: tensorflow_text in /usr/local/lib/python3.6/dist-packages (2.3.0)\n",
            "Requirement already satisfied: tensorflow<2.4,>=2.3.0 in /usr/local/lib/python3.6/dist-packages (from tensorflow_text) (2.3.0)\n",
            "Requirement already satisfied: termcolor>=1.1.0 in /usr/local/lib/python3.6/dist-packages (from tensorflow<2.4,>=2.3.0->tensorflow_text) (1.1.0)\n",
            "Requirement already satisfied: gast==0.3.3 in /usr/local/lib/python3.6/dist-packages (from tensorflow<2.4,>=2.3.0->tensorflow_text) (0.3.3)\n",
            "Requirement already satisfied: google-pasta>=0.1.8 in /usr/local/lib/python3.6/dist-packages (from tensorflow<2.4,>=2.3.0->tensorflow_text) (0.2.0)\n",
            "Requirement already satisfied: wheel>=0.26 in /usr/local/lib/python3.6/dist-packages (from tensorflow<2.4,>=2.3.0->tensorflow_text) (0.35.1)\n",
            "Requirement already satisfied: absl-py>=0.7.0 in /usr/local/lib/python3.6/dist-packages (from tensorflow<2.4,>=2.3.0->tensorflow_text) (0.10.0)\n",
            "Requirement already satisfied: astunparse==1.6.3 in /usr/local/lib/python3.6/dist-packages (from tensorflow<2.4,>=2.3.0->tensorflow_text) (1.6.3)\n",
            "Requirement already satisfied: scipy==1.4.1 in /usr/local/lib/python3.6/dist-packages (from tensorflow<2.4,>=2.3.0->tensorflow_text) (1.4.1)\n",
            "Requirement already satisfied: opt-einsum>=2.3.2 in /usr/local/lib/python3.6/dist-packages (from tensorflow<2.4,>=2.3.0->tensorflow_text) (3.3.0)\n",
            "Requirement already satisfied: tensorflow-estimator<2.4.0,>=2.3.0 in /usr/local/lib/python3.6/dist-packages (from tensorflow<2.4,>=2.3.0->tensorflow_text) (2.3.0)\n",
            "Requirement already satisfied: tensorboard<3,>=2.3.0 in /usr/local/lib/python3.6/dist-packages (from tensorflow<2.4,>=2.3.0->tensorflow_text) (2.3.0)\n",
            "Requirement already satisfied: h5py<2.11.0,>=2.10.0 in /usr/local/lib/python3.6/dist-packages (from tensorflow<2.4,>=2.3.0->tensorflow_text) (2.10.0)\n",
            "Requirement already satisfied: numpy<1.19.0,>=1.16.0 in /usr/local/lib/python3.6/dist-packages (from tensorflow<2.4,>=2.3.0->tensorflow_text) (1.18.5)\n",
            "Requirement already satisfied: protobuf>=3.9.2 in /usr/local/lib/python3.6/dist-packages (from tensorflow<2.4,>=2.3.0->tensorflow_text) (3.12.4)\n",
            "Requirement already satisfied: six>=1.12.0 in /usr/local/lib/python3.6/dist-packages (from tensorflow<2.4,>=2.3.0->tensorflow_text) (1.15.0)\n",
            "Requirement already satisfied: keras-preprocessing<1.2,>=1.1.1 in /usr/local/lib/python3.6/dist-packages (from tensorflow<2.4,>=2.3.0->tensorflow_text) (1.1.2)\n",
            "Requirement already satisfied: wrapt>=1.11.1 in /usr/local/lib/python3.6/dist-packages (from tensorflow<2.4,>=2.3.0->tensorflow_text) (1.12.1)\n",
            "Requirement already satisfied: grpcio>=1.8.6 in /usr/local/lib/python3.6/dist-packages (from tensorflow<2.4,>=2.3.0->tensorflow_text) (1.32.0)\n",
            "Requirement already satisfied: tensorboard-plugin-wit>=1.6.0 in /usr/local/lib/python3.6/dist-packages (from tensorboard<3,>=2.3.0->tensorflow<2.4,>=2.3.0->tensorflow_text) (1.7.0)\n",
            "Requirement already satisfied: werkzeug>=0.11.15 in /usr/local/lib/python3.6/dist-packages (from tensorboard<3,>=2.3.0->tensorflow<2.4,>=2.3.0->tensorflow_text) (1.0.1)\n",
            "Requirement already satisfied: markdown>=2.6.8 in /usr/local/lib/python3.6/dist-packages (from tensorboard<3,>=2.3.0->tensorflow<2.4,>=2.3.0->tensorflow_text) (3.2.2)\n",
            "Requirement already satisfied: setuptools>=41.0.0 in /usr/local/lib/python3.6/dist-packages (from tensorboard<3,>=2.3.0->tensorflow<2.4,>=2.3.0->tensorflow_text) (50.3.0)\n",
            "Requirement already satisfied: requests<3,>=2.21.0 in /usr/local/lib/python3.6/dist-packages (from tensorboard<3,>=2.3.0->tensorflow<2.4,>=2.3.0->tensorflow_text) (2.23.0)\n",
            "Requirement already satisfied: google-auth-oauthlib<0.5,>=0.4.1 in /usr/local/lib/python3.6/dist-packages (from tensorboard<3,>=2.3.0->tensorflow<2.4,>=2.3.0->tensorflow_text) (0.4.1)\n",
            "Requirement already satisfied: google-auth<2,>=1.6.3 in /usr/local/lib/python3.6/dist-packages (from tensorboard<3,>=2.3.0->tensorflow<2.4,>=2.3.0->tensorflow_text) (1.17.2)\n",
            "Requirement already satisfied: importlib-metadata; python_version < \"3.8\" in /usr/local/lib/python3.6/dist-packages (from markdown>=2.6.8->tensorboard<3,>=2.3.0->tensorflow<2.4,>=2.3.0->tensorflow_text) (2.0.0)\n",
            "Requirement already satisfied: urllib3!=1.25.0,!=1.25.1,<1.26,>=1.21.1 in /usr/local/lib/python3.6/dist-packages (from requests<3,>=2.21.0->tensorboard<3,>=2.3.0->tensorflow<2.4,>=2.3.0->tensorflow_text) (1.24.3)\n",
            "Requirement already satisfied: chardet<4,>=3.0.2 in /usr/local/lib/python3.6/dist-packages (from requests<3,>=2.21.0->tensorboard<3,>=2.3.0->tensorflow<2.4,>=2.3.0->tensorflow_text) (3.0.4)\n",
            "Requirement already satisfied: certifi>=2017.4.17 in /usr/local/lib/python3.6/dist-packages (from requests<3,>=2.21.0->tensorboard<3,>=2.3.0->tensorflow<2.4,>=2.3.0->tensorflow_text) (2020.6.20)\n",
            "Requirement already satisfied: idna<3,>=2.5 in /usr/local/lib/python3.6/dist-packages (from requests<3,>=2.21.0->tensorboard<3,>=2.3.0->tensorflow<2.4,>=2.3.0->tensorflow_text) (2.10)\n",
            "Requirement already satisfied: requests-oauthlib>=0.7.0 in /usr/local/lib/python3.6/dist-packages (from google-auth-oauthlib<0.5,>=0.4.1->tensorboard<3,>=2.3.0->tensorflow<2.4,>=2.3.0->tensorflow_text) (1.3.0)\n",
            "Requirement already satisfied: pyasn1-modules>=0.2.1 in /usr/local/lib/python3.6/dist-packages (from google-auth<2,>=1.6.3->tensorboard<3,>=2.3.0->tensorflow<2.4,>=2.3.0->tensorflow_text) (0.2.8)\n",
            "Requirement already satisfied: cachetools<5.0,>=2.0.0 in /usr/local/lib/python3.6/dist-packages (from google-auth<2,>=1.6.3->tensorboard<3,>=2.3.0->tensorflow<2.4,>=2.3.0->tensorflow_text) (4.1.1)\n",
            "Requirement already satisfied: rsa<5,>=3.1.4; python_version >= \"3\" in /usr/local/lib/python3.6/dist-packages (from google-auth<2,>=1.6.3->tensorboard<3,>=2.3.0->tensorflow<2.4,>=2.3.0->tensorflow_text) (4.6)\n",
            "Requirement already satisfied: zipp>=0.5 in /usr/local/lib/python3.6/dist-packages (from importlib-metadata; python_version < \"3.8\"->markdown>=2.6.8->tensorboard<3,>=2.3.0->tensorflow<2.4,>=2.3.0->tensorflow_text) (3.2.0)\n",
            "Requirement already satisfied: oauthlib>=3.0.0 in /usr/local/lib/python3.6/dist-packages (from requests-oauthlib>=0.7.0->google-auth-oauthlib<0.5,>=0.4.1->tensorboard<3,>=2.3.0->tensorflow<2.4,>=2.3.0->tensorflow_text) (3.1.0)\n",
            "Requirement already satisfied: pyasn1<0.5.0,>=0.4.6 in /usr/local/lib/python3.6/dist-packages (from pyasn1-modules>=0.2.1->google-auth<2,>=1.6.3->tensorboard<3,>=2.3.0->tensorflow<2.4,>=2.3.0->tensorflow_text) (0.4.8)\n"
          ],
          "name": "stdout"
        }
      ]
    },
    {
      "cell_type": "code",
      "metadata": {
        "id": "J9qOWgWFuL1g",
        "outputId": "9629c3b1-96c5-4bca-f0c8-105a9f17b9ac",
        "colab": {
          "base_uri": "https://localhost:8080/",
          "height": 68
        }
      },
      "source": [
        "!pip install wordcloud"
      ],
      "execution_count": null,
      "outputs": [
        {
          "output_type": "stream",
          "text": [
            "Requirement already satisfied: wordcloud in /usr/local/lib/python3.6/dist-packages (1.5.0)\n",
            "Requirement already satisfied: numpy>=1.6.1 in /usr/local/lib/python3.6/dist-packages (from wordcloud) (1.18.5)\n",
            "Requirement already satisfied: pillow in /usr/local/lib/python3.6/dist-packages (from wordcloud) (7.0.0)\n"
          ],
          "name": "stdout"
        }
      ]
    },
    {
      "cell_type": "code",
      "metadata": {
        "id": "0MiPRUEFuoiT"
      },
      "source": [
        "import numpy as np\n",
        "import pandas as pd\n",
        "from sklearn.model_selection import train_test_split\n",
        "import tensorflow as tf\n",
        "import tensorflow_text\n",
        "from wordcloud import WordCloud, STOPWORDS, ImageColorGenerator\n",
        "\n",
        "import seaborn as sns\n",
        "import matplotlib.pyplot as plt\n",
        "import tensorflow_hub as hub"
      ],
      "execution_count": null,
      "outputs": []
    },
    {
      "cell_type": "code",
      "metadata": {
        "id": "9-P8dRU3J07g"
      },
      "source": [
        "df = pd.read_csv('/content/Corona_NLP_train.csv', encoding=\"latin-1\")\n",
        "df_test = pd.read_csv('/content/Corona_NLP_test.csv')"
      ],
      "execution_count": null,
      "outputs": []
    },
    {
      "cell_type": "code",
      "metadata": {
        "id": "jBJoVCXxTd_u",
        "outputId": "0f65ec31-f6d8-4b69-e16c-98add763c183",
        "colab": {
          "base_uri": "https://localhost:8080/",
          "height": 669
        }
      },
      "source": [
        "df.head(20)\n"
      ],
      "execution_count": null,
      "outputs": [
        {
          "output_type": "execute_result",
          "data": {
            "text/html": [
              "<div>\n",
              "<style scoped>\n",
              "    .dataframe tbody tr th:only-of-type {\n",
              "        vertical-align: middle;\n",
              "    }\n",
              "\n",
              "    .dataframe tbody tr th {\n",
              "        vertical-align: top;\n",
              "    }\n",
              "\n",
              "    .dataframe thead th {\n",
              "        text-align: right;\n",
              "    }\n",
              "</style>\n",
              "<table border=\"1\" class=\"dataframe\">\n",
              "  <thead>\n",
              "    <tr style=\"text-align: right;\">\n",
              "      <th></th>\n",
              "      <th>UserName</th>\n",
              "      <th>ScreenName</th>\n",
              "      <th>Location</th>\n",
              "      <th>TweetAt</th>\n",
              "      <th>OriginalTweet</th>\n",
              "      <th>Sentiment</th>\n",
              "    </tr>\n",
              "  </thead>\n",
              "  <tbody>\n",
              "    <tr>\n",
              "      <th>0</th>\n",
              "      <td>3799</td>\n",
              "      <td>48751</td>\n",
              "      <td>London</td>\n",
              "      <td>16-03-2020</td>\n",
              "      <td>@MeNyrbie @Phil_Gahan @Chrisitv https://t.co/i...</td>\n",
              "      <td>Neutral</td>\n",
              "    </tr>\n",
              "    <tr>\n",
              "      <th>1</th>\n",
              "      <td>3800</td>\n",
              "      <td>48752</td>\n",
              "      <td>UK</td>\n",
              "      <td>16-03-2020</td>\n",
              "      <td>advice Talk to your neighbours family to excha...</td>\n",
              "      <td>Positive</td>\n",
              "    </tr>\n",
              "    <tr>\n",
              "      <th>2</th>\n",
              "      <td>3801</td>\n",
              "      <td>48753</td>\n",
              "      <td>Vagabonds</td>\n",
              "      <td>16-03-2020</td>\n",
              "      <td>Coronavirus Australia: Woolworths to give elde...</td>\n",
              "      <td>Positive</td>\n",
              "    </tr>\n",
              "    <tr>\n",
              "      <th>3</th>\n",
              "      <td>3802</td>\n",
              "      <td>48754</td>\n",
              "      <td>NaN</td>\n",
              "      <td>16-03-2020</td>\n",
              "      <td>My food stock is not the only one which is emp...</td>\n",
              "      <td>Positive</td>\n",
              "    </tr>\n",
              "    <tr>\n",
              "      <th>4</th>\n",
              "      <td>3803</td>\n",
              "      <td>48755</td>\n",
              "      <td>NaN</td>\n",
              "      <td>16-03-2020</td>\n",
              "      <td>Me, ready to go at supermarket during the #COV...</td>\n",
              "      <td>Extremely Negative</td>\n",
              "    </tr>\n",
              "    <tr>\n",
              "      <th>5</th>\n",
              "      <td>3804</td>\n",
              "      <td>48756</td>\n",
              "      <td>ÃT: 36.319708,-82.363649</td>\n",
              "      <td>16-03-2020</td>\n",
              "      <td>As news of the regionÂs first confirmed COVID...</td>\n",
              "      <td>Positive</td>\n",
              "    </tr>\n",
              "    <tr>\n",
              "      <th>6</th>\n",
              "      <td>3805</td>\n",
              "      <td>48757</td>\n",
              "      <td>35.926541,-78.753267</td>\n",
              "      <td>16-03-2020</td>\n",
              "      <td>Cashier at grocery store was sharing his insig...</td>\n",
              "      <td>Positive</td>\n",
              "    </tr>\n",
              "    <tr>\n",
              "      <th>7</th>\n",
              "      <td>3806</td>\n",
              "      <td>48758</td>\n",
              "      <td>Austria</td>\n",
              "      <td>16-03-2020</td>\n",
              "      <td>Was at the supermarket today. Didn't buy toile...</td>\n",
              "      <td>Neutral</td>\n",
              "    </tr>\n",
              "    <tr>\n",
              "      <th>8</th>\n",
              "      <td>3807</td>\n",
              "      <td>48759</td>\n",
              "      <td>Atlanta, GA USA</td>\n",
              "      <td>16-03-2020</td>\n",
              "      <td>Due to COVID-19 our retail store and classroom...</td>\n",
              "      <td>Positive</td>\n",
              "    </tr>\n",
              "    <tr>\n",
              "      <th>9</th>\n",
              "      <td>3808</td>\n",
              "      <td>48760</td>\n",
              "      <td>BHAVNAGAR,GUJRAT</td>\n",
              "      <td>16-03-2020</td>\n",
              "      <td>For corona prevention,we should stop to buy th...</td>\n",
              "      <td>Negative</td>\n",
              "    </tr>\n",
              "    <tr>\n",
              "      <th>10</th>\n",
              "      <td>3809</td>\n",
              "      <td>48761</td>\n",
              "      <td>Makati, Manila</td>\n",
              "      <td>16-03-2020</td>\n",
              "      <td>All month there hasn't been crowding in the su...</td>\n",
              "      <td>Neutral</td>\n",
              "    </tr>\n",
              "    <tr>\n",
              "      <th>11</th>\n",
              "      <td>3810</td>\n",
              "      <td>48762</td>\n",
              "      <td>Pitt Meadows, BC, Canada</td>\n",
              "      <td>16-03-2020</td>\n",
              "      <td>Due to the Covid-19 situation, we have increas...</td>\n",
              "      <td>Extremely Positive</td>\n",
              "    </tr>\n",
              "    <tr>\n",
              "      <th>12</th>\n",
              "      <td>3811</td>\n",
              "      <td>48763</td>\n",
              "      <td>Horningsea</td>\n",
              "      <td>16-03-2020</td>\n",
              "      <td>#horningsea is a caring community. LetÂs ALL ...</td>\n",
              "      <td>Extremely Positive</td>\n",
              "    </tr>\n",
              "    <tr>\n",
              "      <th>13</th>\n",
              "      <td>3812</td>\n",
              "      <td>48764</td>\n",
              "      <td>Chicago, IL</td>\n",
              "      <td>16-03-2020</td>\n",
              "      <td>Me: I don't need to stock up on food, I'll jus...</td>\n",
              "      <td>Positive</td>\n",
              "    </tr>\n",
              "    <tr>\n",
              "      <th>14</th>\n",
              "      <td>3813</td>\n",
              "      <td>48765</td>\n",
              "      <td>NaN</td>\n",
              "      <td>16-03-2020</td>\n",
              "      <td>ADARA Releases COVID-19 Resource Center for Tr...</td>\n",
              "      <td>Positive</td>\n",
              "    </tr>\n",
              "    <tr>\n",
              "      <th>15</th>\n",
              "      <td>3814</td>\n",
              "      <td>48766</td>\n",
              "      <td>Houston, Texas</td>\n",
              "      <td>16-03-2020</td>\n",
              "      <td>Lines at the grocery store have been unpredict...</td>\n",
              "      <td>Positive</td>\n",
              "    </tr>\n",
              "    <tr>\n",
              "      <th>16</th>\n",
              "      <td>3815</td>\n",
              "      <td>48767</td>\n",
              "      <td>Saudi Arabia</td>\n",
              "      <td>16-03-2020</td>\n",
              "      <td>????? ????? ????? ????? ??\\r\\r\\n?????? ????? ?...</td>\n",
              "      <td>Neutral</td>\n",
              "    </tr>\n",
              "    <tr>\n",
              "      <th>17</th>\n",
              "      <td>3816</td>\n",
              "      <td>48768</td>\n",
              "      <td>Ontario, Canada</td>\n",
              "      <td>16-03-2020</td>\n",
              "      <td>@eyeonthearctic 16MAR20 Russia consumer survei...</td>\n",
              "      <td>Neutral</td>\n",
              "    </tr>\n",
              "    <tr>\n",
              "      <th>18</th>\n",
              "      <td>3817</td>\n",
              "      <td>48769</td>\n",
              "      <td>North America</td>\n",
              "      <td>16-03-2020</td>\n",
              "      <td>Amazon Glitch Stymies Whole Foods, Fresh Groce...</td>\n",
              "      <td>Extremely Positive</td>\n",
              "    </tr>\n",
              "    <tr>\n",
              "      <th>19</th>\n",
              "      <td>3818</td>\n",
              "      <td>48770</td>\n",
              "      <td>Denver, CO</td>\n",
              "      <td>16-03-2020</td>\n",
              "      <td>For those who aren't struggling, please consid...</td>\n",
              "      <td>Positive</td>\n",
              "    </tr>\n",
              "  </tbody>\n",
              "</table>\n",
              "</div>"
            ],
            "text/plain": [
              "    UserName  ...           Sentiment\n",
              "0       3799  ...             Neutral\n",
              "1       3800  ...            Positive\n",
              "2       3801  ...            Positive\n",
              "3       3802  ...            Positive\n",
              "4       3803  ...  Extremely Negative\n",
              "5       3804  ...            Positive\n",
              "6       3805  ...            Positive\n",
              "7       3806  ...             Neutral\n",
              "8       3807  ...            Positive\n",
              "9       3808  ...            Negative\n",
              "10      3809  ...             Neutral\n",
              "11      3810  ...  Extremely Positive\n",
              "12      3811  ...  Extremely Positive\n",
              "13      3812  ...            Positive\n",
              "14      3813  ...            Positive\n",
              "15      3814  ...            Positive\n",
              "16      3815  ...             Neutral\n",
              "17      3816  ...             Neutral\n",
              "18      3817  ...  Extremely Positive\n",
              "19      3818  ...            Positive\n",
              "\n",
              "[20 rows x 6 columns]"
            ]
          },
          "metadata": {
            "tags": []
          },
          "execution_count": 5
        }
      ]
    },
    {
      "cell_type": "code",
      "metadata": {
        "id": "4DouT2dRVcK1",
        "outputId": "2c5f5263-937c-4250-ba32-81692fe2d20b",
        "colab": {
          "base_uri": "https://localhost:8080/",
          "height": 204
        }
      },
      "source": [
        "df.tail()"
      ],
      "execution_count": null,
      "outputs": [
        {
          "output_type": "execute_result",
          "data": {
            "text/html": [
              "<div>\n",
              "<style scoped>\n",
              "    .dataframe tbody tr th:only-of-type {\n",
              "        vertical-align: middle;\n",
              "    }\n",
              "\n",
              "    .dataframe tbody tr th {\n",
              "        vertical-align: top;\n",
              "    }\n",
              "\n",
              "    .dataframe thead th {\n",
              "        text-align: right;\n",
              "    }\n",
              "</style>\n",
              "<table border=\"1\" class=\"dataframe\">\n",
              "  <thead>\n",
              "    <tr style=\"text-align: right;\">\n",
              "      <th></th>\n",
              "      <th>UserName</th>\n",
              "      <th>ScreenName</th>\n",
              "      <th>Location</th>\n",
              "      <th>TweetAt</th>\n",
              "      <th>OriginalTweet</th>\n",
              "      <th>Sentiment</th>\n",
              "    </tr>\n",
              "  </thead>\n",
              "  <tbody>\n",
              "    <tr>\n",
              "      <th>41152</th>\n",
              "      <td>44951</td>\n",
              "      <td>89903</td>\n",
              "      <td>Wellington City, New Zealand</td>\n",
              "      <td>14-04-2020</td>\n",
              "      <td>Airline pilots offering to stock supermarket s...</td>\n",
              "      <td>Neutral</td>\n",
              "    </tr>\n",
              "    <tr>\n",
              "      <th>41153</th>\n",
              "      <td>44952</td>\n",
              "      <td>89904</td>\n",
              "      <td>NaN</td>\n",
              "      <td>14-04-2020</td>\n",
              "      <td>Response to complaint not provided citing COVI...</td>\n",
              "      <td>Extremely Negative</td>\n",
              "    </tr>\n",
              "    <tr>\n",
              "      <th>41154</th>\n",
              "      <td>44953</td>\n",
              "      <td>89905</td>\n",
              "      <td>NaN</td>\n",
              "      <td>14-04-2020</td>\n",
              "      <td>You know itÂs getting tough when @KameronWild...</td>\n",
              "      <td>Positive</td>\n",
              "    </tr>\n",
              "    <tr>\n",
              "      <th>41155</th>\n",
              "      <td>44954</td>\n",
              "      <td>89906</td>\n",
              "      <td>NaN</td>\n",
              "      <td>14-04-2020</td>\n",
              "      <td>Is it wrong that the smell of hand sanitizer i...</td>\n",
              "      <td>Neutral</td>\n",
              "    </tr>\n",
              "    <tr>\n",
              "      <th>41156</th>\n",
              "      <td>44955</td>\n",
              "      <td>89907</td>\n",
              "      <td>i love you so much || he/him</td>\n",
              "      <td>14-04-2020</td>\n",
              "      <td>@TartiiCat Well new/used Rift S are going for ...</td>\n",
              "      <td>Negative</td>\n",
              "    </tr>\n",
              "  </tbody>\n",
              "</table>\n",
              "</div>"
            ],
            "text/plain": [
              "       UserName  ...           Sentiment\n",
              "41152     44951  ...             Neutral\n",
              "41153     44952  ...  Extremely Negative\n",
              "41154     44953  ...            Positive\n",
              "41155     44954  ...             Neutral\n",
              "41156     44955  ...            Negative\n",
              "\n",
              "[5 rows x 6 columns]"
            ]
          },
          "metadata": {
            "tags": []
          },
          "execution_count": 6
        }
      ]
    },
    {
      "cell_type": "code",
      "metadata": {
        "id": "JLiuxY25Vftk",
        "outputId": "64e766ed-bb91-42b7-ee71-8bbbc8d153cb",
        "colab": {
          "base_uri": "https://localhost:8080/",
          "height": 34
        }
      },
      "source": [
        "df.shape"
      ],
      "execution_count": null,
      "outputs": [
        {
          "output_type": "execute_result",
          "data": {
            "text/plain": [
              "(41157, 6)"
            ]
          },
          "metadata": {
            "tags": []
          },
          "execution_count": 7
        }
      ]
    },
    {
      "cell_type": "code",
      "metadata": {
        "id": "w-1_BP8eWiQx",
        "outputId": "8b9b5e76-4602-4b1d-862b-045953327194",
        "colab": {
          "base_uri": "https://localhost:8080/",
          "height": 34
        }
      },
      "source": [
        "df_test.shape"
      ],
      "execution_count": null,
      "outputs": [
        {
          "output_type": "execute_result",
          "data": {
            "text/plain": [
              "(3798, 6)"
            ]
          },
          "metadata": {
            "tags": []
          },
          "execution_count": 8
        }
      ]
    },
    {
      "cell_type": "code",
      "metadata": {
        "id": "IrkKscM2GLVn"
      },
      "source": [
        "df_copy = df"
      ],
      "execution_count": null,
      "outputs": []
    },
    {
      "cell_type": "code",
      "metadata": {
        "id": "jUfsI_GlGhSm",
        "outputId": "83f38d88-8257-4db6-d56c-74f91f1926e3",
        "colab": {
          "base_uri": "https://localhost:8080/",
          "height": 359
        }
      },
      "source": [
        "df_copy.head(10)"
      ],
      "execution_count": null,
      "outputs": [
        {
          "output_type": "execute_result",
          "data": {
            "text/html": [
              "<div>\n",
              "<style scoped>\n",
              "    .dataframe tbody tr th:only-of-type {\n",
              "        vertical-align: middle;\n",
              "    }\n",
              "\n",
              "    .dataframe tbody tr th {\n",
              "        vertical-align: top;\n",
              "    }\n",
              "\n",
              "    .dataframe thead th {\n",
              "        text-align: right;\n",
              "    }\n",
              "</style>\n",
              "<table border=\"1\" class=\"dataframe\">\n",
              "  <thead>\n",
              "    <tr style=\"text-align: right;\">\n",
              "      <th></th>\n",
              "      <th>UserName</th>\n",
              "      <th>ScreenName</th>\n",
              "      <th>Location</th>\n",
              "      <th>TweetAt</th>\n",
              "      <th>OriginalTweet</th>\n",
              "      <th>Sentiment</th>\n",
              "    </tr>\n",
              "  </thead>\n",
              "  <tbody>\n",
              "    <tr>\n",
              "      <th>0</th>\n",
              "      <td>3799</td>\n",
              "      <td>48751</td>\n",
              "      <td>London</td>\n",
              "      <td>16-03-2020</td>\n",
              "      <td>@MeNyrbie @Phil_Gahan @Chrisitv https://t.co/i...</td>\n",
              "      <td>Neutral</td>\n",
              "    </tr>\n",
              "    <tr>\n",
              "      <th>1</th>\n",
              "      <td>3800</td>\n",
              "      <td>48752</td>\n",
              "      <td>UK</td>\n",
              "      <td>16-03-2020</td>\n",
              "      <td>advice Talk to your neighbours family to excha...</td>\n",
              "      <td>Positive</td>\n",
              "    </tr>\n",
              "    <tr>\n",
              "      <th>2</th>\n",
              "      <td>3801</td>\n",
              "      <td>48753</td>\n",
              "      <td>Vagabonds</td>\n",
              "      <td>16-03-2020</td>\n",
              "      <td>Coronavirus Australia: Woolworths to give elde...</td>\n",
              "      <td>Positive</td>\n",
              "    </tr>\n",
              "    <tr>\n",
              "      <th>3</th>\n",
              "      <td>3802</td>\n",
              "      <td>48754</td>\n",
              "      <td>NaN</td>\n",
              "      <td>16-03-2020</td>\n",
              "      <td>My food stock is not the only one which is emp...</td>\n",
              "      <td>Positive</td>\n",
              "    </tr>\n",
              "    <tr>\n",
              "      <th>4</th>\n",
              "      <td>3803</td>\n",
              "      <td>48755</td>\n",
              "      <td>NaN</td>\n",
              "      <td>16-03-2020</td>\n",
              "      <td>Me, ready to go at supermarket during the #COV...</td>\n",
              "      <td>Extremely Negative</td>\n",
              "    </tr>\n",
              "    <tr>\n",
              "      <th>5</th>\n",
              "      <td>3804</td>\n",
              "      <td>48756</td>\n",
              "      <td>ÃT: 36.319708,-82.363649</td>\n",
              "      <td>16-03-2020</td>\n",
              "      <td>As news of the regionÂs first confirmed COVID...</td>\n",
              "      <td>Positive</td>\n",
              "    </tr>\n",
              "    <tr>\n",
              "      <th>6</th>\n",
              "      <td>3805</td>\n",
              "      <td>48757</td>\n",
              "      <td>35.926541,-78.753267</td>\n",
              "      <td>16-03-2020</td>\n",
              "      <td>Cashier at grocery store was sharing his insig...</td>\n",
              "      <td>Positive</td>\n",
              "    </tr>\n",
              "    <tr>\n",
              "      <th>7</th>\n",
              "      <td>3806</td>\n",
              "      <td>48758</td>\n",
              "      <td>Austria</td>\n",
              "      <td>16-03-2020</td>\n",
              "      <td>Was at the supermarket today. Didn't buy toile...</td>\n",
              "      <td>Neutral</td>\n",
              "    </tr>\n",
              "    <tr>\n",
              "      <th>8</th>\n",
              "      <td>3807</td>\n",
              "      <td>48759</td>\n",
              "      <td>Atlanta, GA USA</td>\n",
              "      <td>16-03-2020</td>\n",
              "      <td>Due to COVID-19 our retail store and classroom...</td>\n",
              "      <td>Positive</td>\n",
              "    </tr>\n",
              "    <tr>\n",
              "      <th>9</th>\n",
              "      <td>3808</td>\n",
              "      <td>48760</td>\n",
              "      <td>BHAVNAGAR,GUJRAT</td>\n",
              "      <td>16-03-2020</td>\n",
              "      <td>For corona prevention,we should stop to buy th...</td>\n",
              "      <td>Negative</td>\n",
              "    </tr>\n",
              "  </tbody>\n",
              "</table>\n",
              "</div>"
            ],
            "text/plain": [
              "   UserName  ...           Sentiment\n",
              "0      3799  ...             Neutral\n",
              "1      3800  ...            Positive\n",
              "2      3801  ...            Positive\n",
              "3      3802  ...            Positive\n",
              "4      3803  ...  Extremely Negative\n",
              "5      3804  ...            Positive\n",
              "6      3805  ...            Positive\n",
              "7      3806  ...             Neutral\n",
              "8      3807  ...            Positive\n",
              "9      3808  ...            Negative\n",
              "\n",
              "[10 rows x 6 columns]"
            ]
          },
          "metadata": {
            "tags": []
          },
          "execution_count": 10
        }
      ]
    },
    {
      "cell_type": "code",
      "metadata": {
        "id": "3BQxaG61XZA8"
      },
      "source": [
        "df['Sentiment'].replace({\"Extremely Positive\": \"Positive\", \"Extremely Negative\": \"Negative\"}, inplace=True)"
      ],
      "execution_count": null,
      "outputs": []
    },
    {
      "cell_type": "code",
      "metadata": {
        "id": "PJBWxR8eYZZi",
        "outputId": "7bb48a21-dcc3-4b67-b359-4d277fd6c243",
        "colab": {
          "base_uri": "https://localhost:8080/",
          "height": 204
        }
      },
      "source": [
        "df.head()"
      ],
      "execution_count": null,
      "outputs": [
        {
          "output_type": "execute_result",
          "data": {
            "text/html": [
              "<div>\n",
              "<style scoped>\n",
              "    .dataframe tbody tr th:only-of-type {\n",
              "        vertical-align: middle;\n",
              "    }\n",
              "\n",
              "    .dataframe tbody tr th {\n",
              "        vertical-align: top;\n",
              "    }\n",
              "\n",
              "    .dataframe thead th {\n",
              "        text-align: right;\n",
              "    }\n",
              "</style>\n",
              "<table border=\"1\" class=\"dataframe\">\n",
              "  <thead>\n",
              "    <tr style=\"text-align: right;\">\n",
              "      <th></th>\n",
              "      <th>UserName</th>\n",
              "      <th>ScreenName</th>\n",
              "      <th>Location</th>\n",
              "      <th>TweetAt</th>\n",
              "      <th>OriginalTweet</th>\n",
              "      <th>Sentiment</th>\n",
              "    </tr>\n",
              "  </thead>\n",
              "  <tbody>\n",
              "    <tr>\n",
              "      <th>0</th>\n",
              "      <td>3799</td>\n",
              "      <td>48751</td>\n",
              "      <td>London</td>\n",
              "      <td>16-03-2020</td>\n",
              "      <td>@MeNyrbie @Phil_Gahan @Chrisitv https://t.co/i...</td>\n",
              "      <td>Neutral</td>\n",
              "    </tr>\n",
              "    <tr>\n",
              "      <th>1</th>\n",
              "      <td>3800</td>\n",
              "      <td>48752</td>\n",
              "      <td>UK</td>\n",
              "      <td>16-03-2020</td>\n",
              "      <td>advice Talk to your neighbours family to excha...</td>\n",
              "      <td>Positive</td>\n",
              "    </tr>\n",
              "    <tr>\n",
              "      <th>2</th>\n",
              "      <td>3801</td>\n",
              "      <td>48753</td>\n",
              "      <td>Vagabonds</td>\n",
              "      <td>16-03-2020</td>\n",
              "      <td>Coronavirus Australia: Woolworths to give elde...</td>\n",
              "      <td>Positive</td>\n",
              "    </tr>\n",
              "    <tr>\n",
              "      <th>3</th>\n",
              "      <td>3802</td>\n",
              "      <td>48754</td>\n",
              "      <td>NaN</td>\n",
              "      <td>16-03-2020</td>\n",
              "      <td>My food stock is not the only one which is emp...</td>\n",
              "      <td>Positive</td>\n",
              "    </tr>\n",
              "    <tr>\n",
              "      <th>4</th>\n",
              "      <td>3803</td>\n",
              "      <td>48755</td>\n",
              "      <td>NaN</td>\n",
              "      <td>16-03-2020</td>\n",
              "      <td>Me, ready to go at supermarket during the #COV...</td>\n",
              "      <td>Negative</td>\n",
              "    </tr>\n",
              "  </tbody>\n",
              "</table>\n",
              "</div>"
            ],
            "text/plain": [
              "   UserName  ...  Sentiment\n",
              "0      3799  ...    Neutral\n",
              "1      3800  ...   Positive\n",
              "2      3801  ...   Positive\n",
              "3      3802  ...   Positive\n",
              "4      3803  ...   Negative\n",
              "\n",
              "[5 rows x 6 columns]"
            ]
          },
          "metadata": {
            "tags": []
          },
          "execution_count": 12
        }
      ]
    },
    {
      "cell_type": "code",
      "metadata": {
        "id": "R4snnOyuGkde"
      },
      "source": [
        "index_names = df_copy[(df_copy['Sentiment'] == 'Neutral')].index"
      ],
      "execution_count": null,
      "outputs": []
    },
    {
      "cell_type": "code",
      "metadata": {
        "id": "KT1IKMg-IS6O"
      },
      "source": [
        "df_copy.drop(index_names, inplace=True)"
      ],
      "execution_count": null,
      "outputs": []
    },
    {
      "cell_type": "code",
      "metadata": {
        "id": "kcKDUtDtIj4q",
        "outputId": "f9c7229e-ef5b-4581-b6ec-212db7edf214",
        "colab": {
          "base_uri": "https://localhost:8080/",
          "height": 419
        }
      },
      "source": [
        "df_copy"
      ],
      "execution_count": null,
      "outputs": [
        {
          "output_type": "execute_result",
          "data": {
            "text/html": [
              "<div>\n",
              "<style scoped>\n",
              "    .dataframe tbody tr th:only-of-type {\n",
              "        vertical-align: middle;\n",
              "    }\n",
              "\n",
              "    .dataframe tbody tr th {\n",
              "        vertical-align: top;\n",
              "    }\n",
              "\n",
              "    .dataframe thead th {\n",
              "        text-align: right;\n",
              "    }\n",
              "</style>\n",
              "<table border=\"1\" class=\"dataframe\">\n",
              "  <thead>\n",
              "    <tr style=\"text-align: right;\">\n",
              "      <th></th>\n",
              "      <th>UserName</th>\n",
              "      <th>ScreenName</th>\n",
              "      <th>Location</th>\n",
              "      <th>TweetAt</th>\n",
              "      <th>OriginalTweet</th>\n",
              "      <th>Sentiment</th>\n",
              "    </tr>\n",
              "  </thead>\n",
              "  <tbody>\n",
              "    <tr>\n",
              "      <th>1</th>\n",
              "      <td>3800</td>\n",
              "      <td>48752</td>\n",
              "      <td>UK</td>\n",
              "      <td>16-03-2020</td>\n",
              "      <td>advice Talk to your neighbours family to excha...</td>\n",
              "      <td>Positive</td>\n",
              "    </tr>\n",
              "    <tr>\n",
              "      <th>2</th>\n",
              "      <td>3801</td>\n",
              "      <td>48753</td>\n",
              "      <td>Vagabonds</td>\n",
              "      <td>16-03-2020</td>\n",
              "      <td>Coronavirus Australia: Woolworths to give elde...</td>\n",
              "      <td>Positive</td>\n",
              "    </tr>\n",
              "    <tr>\n",
              "      <th>3</th>\n",
              "      <td>3802</td>\n",
              "      <td>48754</td>\n",
              "      <td>NaN</td>\n",
              "      <td>16-03-2020</td>\n",
              "      <td>My food stock is not the only one which is emp...</td>\n",
              "      <td>Positive</td>\n",
              "    </tr>\n",
              "    <tr>\n",
              "      <th>4</th>\n",
              "      <td>3803</td>\n",
              "      <td>48755</td>\n",
              "      <td>NaN</td>\n",
              "      <td>16-03-2020</td>\n",
              "      <td>Me, ready to go at supermarket during the #COV...</td>\n",
              "      <td>Negative</td>\n",
              "    </tr>\n",
              "    <tr>\n",
              "      <th>5</th>\n",
              "      <td>3804</td>\n",
              "      <td>48756</td>\n",
              "      <td>ÃT: 36.319708,-82.363649</td>\n",
              "      <td>16-03-2020</td>\n",
              "      <td>As news of the regionÂs first confirmed COVID...</td>\n",
              "      <td>Positive</td>\n",
              "    </tr>\n",
              "    <tr>\n",
              "      <th>...</th>\n",
              "      <td>...</td>\n",
              "      <td>...</td>\n",
              "      <td>...</td>\n",
              "      <td>...</td>\n",
              "      <td>...</td>\n",
              "      <td>...</td>\n",
              "    </tr>\n",
              "    <tr>\n",
              "      <th>41150</th>\n",
              "      <td>44949</td>\n",
              "      <td>89901</td>\n",
              "      <td>OHIO</td>\n",
              "      <td>14-04-2020</td>\n",
              "      <td>I never that weÂd be in a situation &amp;amp; wor...</td>\n",
              "      <td>Positive</td>\n",
              "    </tr>\n",
              "    <tr>\n",
              "      <th>41151</th>\n",
              "      <td>44950</td>\n",
              "      <td>89902</td>\n",
              "      <td>NaN</td>\n",
              "      <td>14-04-2020</td>\n",
              "      <td>@MrSilverScott you are definitely my man. I fe...</td>\n",
              "      <td>Positive</td>\n",
              "    </tr>\n",
              "    <tr>\n",
              "      <th>41153</th>\n",
              "      <td>44952</td>\n",
              "      <td>89904</td>\n",
              "      <td>NaN</td>\n",
              "      <td>14-04-2020</td>\n",
              "      <td>Response to complaint not provided citing COVI...</td>\n",
              "      <td>Negative</td>\n",
              "    </tr>\n",
              "    <tr>\n",
              "      <th>41154</th>\n",
              "      <td>44953</td>\n",
              "      <td>89905</td>\n",
              "      <td>NaN</td>\n",
              "      <td>14-04-2020</td>\n",
              "      <td>You know itÂs getting tough when @KameronWild...</td>\n",
              "      <td>Positive</td>\n",
              "    </tr>\n",
              "    <tr>\n",
              "      <th>41156</th>\n",
              "      <td>44955</td>\n",
              "      <td>89907</td>\n",
              "      <td>i love you so much || he/him</td>\n",
              "      <td>14-04-2020</td>\n",
              "      <td>@TartiiCat Well new/used Rift S are going for ...</td>\n",
              "      <td>Negative</td>\n",
              "    </tr>\n",
              "  </tbody>\n",
              "</table>\n",
              "<p>33444 rows × 6 columns</p>\n",
              "</div>"
            ],
            "text/plain": [
              "       UserName  ...  Sentiment\n",
              "1          3800  ...   Positive\n",
              "2          3801  ...   Positive\n",
              "3          3802  ...   Positive\n",
              "4          3803  ...   Negative\n",
              "5          3804  ...   Positive\n",
              "...         ...  ...        ...\n",
              "41150     44949  ...   Positive\n",
              "41151     44950  ...   Positive\n",
              "41153     44952  ...   Negative\n",
              "41154     44953  ...   Positive\n",
              "41156     44955  ...   Negative\n",
              "\n",
              "[33444 rows x 6 columns]"
            ]
          },
          "metadata": {
            "tags": []
          },
          "execution_count": 15
        }
      ]
    },
    {
      "cell_type": "code",
      "metadata": {
        "id": "3nnr1pspb6Ng",
        "outputId": "2b410d0a-1252-4c0a-86d4-29b0df926c3a",
        "colab": {
          "base_uri": "https://localhost:8080/",
          "height": 350
        }
      },
      "source": [
        "sns.countplot(df.Sentiment)"
      ],
      "execution_count": null,
      "outputs": [
        {
          "output_type": "stream",
          "text": [
            "/usr/local/lib/python3.6/dist-packages/seaborn/_decorators.py:43: FutureWarning: Pass the following variable as a keyword arg: x. From version 0.12, the only valid positional argument will be `data`, and passing other arguments without an explicit keyword will result in an error or misinterpretation.\n",
            "  FutureWarning\n"
          ],
          "name": "stderr"
        },
        {
          "output_type": "execute_result",
          "data": {
            "text/plain": [
              "<matplotlib.axes._subplots.AxesSubplot at 0x7f5b2d018128>"
            ]
          },
          "metadata": {
            "tags": []
          },
          "execution_count": 16
        },
        {
          "output_type": "display_data",
          "data": {
            "image/png": "[encoded data removed]",
            "text/plain": [
              "<Figure size 432x288 with 1 Axes>"
            ]
          },
          "metadata": {
            "tags": [],
            "needs_background": "light"
          }
        }
      ]
    },
    {
      "cell_type": "code",
      "metadata": {
        "id": "kbgvVZUVeBsI",
        "outputId": "e56ce083-9ac0-48bc-8fd9-5a960941e65e",
        "colab": {
          "base_uri": "https://localhost:8080/",
          "height": 68
        }
      },
      "source": [
        "df['Sentiment'].value_counts()"
      ],
      "execution_count": null,
      "outputs": [
        {
          "output_type": "execute_result",
          "data": {
            "text/plain": [
              "Positive    18046\n",
              "Negative    15398\n",
              "Name: Sentiment, dtype: int64"
            ]
          },
          "metadata": {
            "tags": []
          },
          "execution_count": 17
        }
      ]
    },
    {
      "cell_type": "code",
      "metadata": {
        "id": "BLjiewu-ZObV"
      },
      "source": [
        "positive_tweet_slice = df_copy[(df_copy['Sentiment'] == 'Positive')][:3046].index"
      ],
      "execution_count": null,
      "outputs": []
    },
    {
      "cell_type": "code",
      "metadata": {
        "id": "CKr5g7bfe96B",
        "outputId": "4a858dbd-6247-4798-f7ac-2225eb10a415",
        "colab": {
          "base_uri": "https://localhost:8080/",
          "height": 85
        }
      },
      "source": [
        "positive_tweet_slice"
      ],
      "execution_count": null,
      "outputs": [
        {
          "output_type": "execute_result",
          "data": {
            "text/plain": [
              "Int64Index([   1,    2,    3,    5,    6,    8,   11,   12,   13,   14,\n",
              "            ...\n",
              "            7341, 7344, 7345, 7347, 7348, 7349, 7350, 7351, 7357, 7359],\n",
              "           dtype='int64', length=3046)"
            ]
          },
          "metadata": {
            "tags": []
          },
          "execution_count": 19
        }
      ]
    },
    {
      "cell_type": "code",
      "metadata": {
        "id": "KC49MQO-eWxb"
      },
      "source": [
        "df_copy.drop(positive_tweet_slice, inplace=True)"
      ],
      "execution_count": null,
      "outputs": []
    },
    {
      "cell_type": "code",
      "metadata": {
        "id": "sQ9EyPhCeyF0",
        "outputId": "bbf37d82-1560-4b5f-e002-ba89f4fcb31b",
        "colab": {
          "base_uri": "https://localhost:8080/",
          "height": 68
        }
      },
      "source": [
        "df_copy['Sentiment'].value_counts()"
      ],
      "execution_count": null,
      "outputs": [
        {
          "output_type": "execute_result",
          "data": {
            "text/plain": [
              "Negative    15398\n",
              "Positive    15000\n",
              "Name: Sentiment, dtype: int64"
            ]
          },
          "metadata": {
            "tags": []
          },
          "execution_count": 21
        }
      ]
    },
    {
      "cell_type": "code",
      "metadata": {
        "id": "mvnqzqmyf_Uy"
      },
      "source": [
        "negative_tweet_slice = df_copy[(df_copy['Sentiment'] == 'Negative')][:398].index\n",
        "df_copy.drop(negative_tweet_slice, inplace=True)"
      ],
      "execution_count": null,
      "outputs": []
    },
    {
      "cell_type": "code",
      "metadata": {
        "id": "m4nmgqmvgQ0r",
        "outputId": "93cc56f8-1a44-4f3f-ca0b-42aa9cff4988",
        "colab": {
          "base_uri": "https://localhost:8080/",
          "height": 68
        }
      },
      "source": [
        "df_copy['Sentiment'].value_counts()"
      ],
      "execution_count": null,
      "outputs": [
        {
          "output_type": "execute_result",
          "data": {
            "text/plain": [
              "Negative    15000\n",
              "Positive    15000\n",
              "Name: Sentiment, dtype: int64"
            ]
          },
          "metadata": {
            "tags": []
          },
          "execution_count": 23
        }
      ]
    },
    {
      "cell_type": "code",
      "metadata": {
        "id": "bi6qtI1Ur4_s"
      },
      "source": [
        "embed = hub.load(\"https://tfhub.dev/google/universal-sentence-encoder/4\")"
      ],
      "execution_count": null,
      "outputs": []
    },
    {
      "cell_type": "code",
      "metadata": {
        "id": "yMfO6ooZsj-g"
      },
      "source": [
        "reviews = ['Enjoy Life', 'Cheers']"
      ],
      "execution_count": null,
      "outputs": []
    },
    {
      "cell_type": "code",
      "metadata": {
        "id": "qhXT0hXMsx5g"
      },
      "source": [
        "embeddings = embed(reviews)"
      ],
      "execution_count": null,
      "outputs": []
    },
    {
      "cell_type": "code",
      "metadata": {
        "id": "EGdqrYmas75s",
        "outputId": "b13ee9a2-7b7f-4f2d-9004-a197cdcb4265",
        "colab": {
          "base_uri": "https://localhost:8080/",
          "height": 102
        }
      },
      "source": [
        "print(embeddings)"
      ],
      "execution_count": null,
      "outputs": [
        {
          "output_type": "stream",
          "text": [
            "tf.Tensor(\n",
            "[[ 0.02810832 -0.09097949  0.02151876 ...  0.01978666  0.01094323\n",
            "  -0.02202797]\n",
            " [-0.03476518 -0.02751409 -0.0131769  ... -0.01190553 -0.04399133\n",
            "  -0.03393875]], shape=(2, 512), dtype=float32)\n"
          ],
          "name": "stdout"
        }
      ]
    },
    {
      "cell_type": "code",
      "metadata": {
        "id": "yDLSf2A8s_fA",
        "outputId": "86e3f02a-f4a2-4ab0-fc00-0213f8817621",
        "colab": {
          "base_uri": "https://localhost:8080/",
          "height": 34
        }
      },
      "source": [
        "embeddings.shape"
      ],
      "execution_count": null,
      "outputs": [
        {
          "output_type": "execute_result",
          "data": {
            "text/plain": [
              "TensorShape([2, 512])"
            ]
          },
          "metadata": {
            "tags": []
          },
          "execution_count": 28
        }
      ]
    },
    {
      "cell_type": "code",
      "metadata": {
        "id": "VxDx164k6U5A"
      },
      "source": [
        "from sklearn.preprocessing import OneHotEncoder"
      ],
      "execution_count": null,
      "outputs": []
    },
    {
      "cell_type": "code",
      "metadata": {
        "id": "y-TD2_hA6lnU"
      },
      "source": [
        "one_hot_encoded_text = OneHotEncoder(sparse=False).fit_transform(\n",
        "    df['Sentiment'].to_numpy().reshape(-1, 1)\n",
        ")"
      ],
      "execution_count": null,
      "outputs": []
    },
    {
      "cell_type": "code",
      "metadata": {
        "id": "q2g2qVt_7XRQ",
        "outputId": "201a3865-0074-4e8d-861b-6d72f6c50dff",
        "colab": {
          "base_uri": "https://localhost:8080/",
          "height": 34
        }
      },
      "source": [
        "one_hot_encoded_text.shape"
      ],
      "execution_count": null,
      "outputs": [
        {
          "output_type": "execute_result",
          "data": {
            "text/plain": [
              "(30000, 2)"
            ]
          },
          "metadata": {
            "tags": []
          },
          "execution_count": 31
        }
      ]
    },
    {
      "cell_type": "code",
      "metadata": {
        "id": "XgKAZlM8Cmha",
        "outputId": "45195323-bd63-41ed-e271-27f50965803f",
        "colab": {
          "base_uri": "https://localhost:8080/",
          "height": 34
        }
      },
      "source": [
        "one_hot_encoded_text[0]"
      ],
      "execution_count": null,
      "outputs": [
        {
          "output_type": "execute_result",
          "data": {
            "text/plain": [
              "array([1., 0.])"
            ]
          },
          "metadata": {
            "tags": []
          },
          "execution_count": 32
        }
      ]
    },
    {
      "cell_type": "code",
      "metadata": {
        "id": "uxHDBhRU-7p3"
      },
      "source": [
        "RANDOM_SEED = 42"
      ],
      "execution_count": null,
      "outputs": []
    },
    {
      "cell_type": "code",
      "metadata": {
        "id": "ai_tE6cj7yVz"
      },
      "source": [
        "train_tweets, test_tweets, y_train, y_test =\\\n",
        "  train_test_split(df.OriginalTweet, one_hot_encoded_text, test_size=0.1, random_state=RANDOM_SEED)"
      ],
      "execution_count": null,
      "outputs": []
    },
    {
      "cell_type": "code",
      "metadata": {
        "id": "6hBnV246814L",
        "outputId": "bcc8fa19-e5c8-40e5-a4b3-c756e3320790",
        "colab": {
          "base_uri": "https://localhost:8080/",
          "height": 34
        }
      },
      "source": [
        "train_tweets.shape"
      ],
      "execution_count": null,
      "outputs": [
        {
          "output_type": "execute_result",
          "data": {
            "text/plain": [
              "(27000,)"
            ]
          },
          "metadata": {
            "tags": []
          },
          "execution_count": 35
        }
      ]
    },
    {
      "cell_type": "code",
      "metadata": {
        "id": "6xTNIZNeMmup",
        "outputId": "abd18f10-e41d-40b6-bfea-26e7e7006548",
        "colab": {
          "base_uri": "https://localhost:8080/",
          "height": 221
        }
      },
      "source": [
        "train_tweets"
      ],
      "execution_count": null,
      "outputs": [
        {
          "output_type": "execute_result",
          "data": {
            "text/plain": [
              "1832     Price gouging is illegal since Governor Abbott...\n",
              "20055    =&gt; #Coronavirus #Scams: What the #FTC is do...\n",
              "14870    Restaurants and bars should remain take-out on...\n",
              "35738    Anyone who knows me personally knows I haven't...\n",
              "13320    What a nice bloke, all that's been asked is fo...\n",
              "                               ...                        \n",
              "40906    Even by Trump s standards this is cringe worth...\n",
              "10734    #Coronavirus fatalities are rising in #Europe,...\n",
              "3042     It's now impossible to get groceries delivered...\n",
              "23417    URGENT plea for food bank donations Requests f...\n",
              "33228    Finding from part 1 of the COVID-19 #Travel Bu...\n",
              "Name: OriginalTweet, Length: 27000, dtype: object"
            ]
          },
          "metadata": {
            "tags": []
          },
          "execution_count": 36
        }
      ]
    },
    {
      "cell_type": "code",
      "metadata": {
        "id": "fIAWWEeH-MQ4",
        "outputId": "a69c7936-04d8-459e-ca45-32aeffaeb1df",
        "colab": {
          "base_uri": "https://localhost:8080/",
          "height": 34
        }
      },
      "source": [
        "!pip install tqdm\n",
        "from tqdm import tqdm\n"
      ],
      "execution_count": null,
      "outputs": [
        {
          "output_type": "stream",
          "text": [
            "Requirement already satisfied: tqdm in /usr/local/lib/python3.6/dist-packages (4.41.1)\n"
          ],
          "name": "stdout"
        }
      ]
    },
    {
      "cell_type": "code",
      "metadata": {
        "id": "_7N0Xt8kaCOv"
      },
      "source": [
        "def encode_labels(train_set):\n",
        "  for tweet "
      ],
      "execution_count": null,
      "outputs": []
    },
    {
      "cell_type": "code",
      "metadata": {
        "id": "2UwunopD9WuN",
        "outputId": "9f108303-f404-4342-e13c-1cc1e33f5732",
        "colab": {
          "base_uri": "https://localhost:8080/",
          "height": 34
        }
      },
      "source": [
        "X_train = []\n",
        "for tweet in tqdm(train_tweets):\n",
        "  emb = embed([tweet])\n",
        "  tweet_emb = tf.reshape(emb, [-1]).numpy()\n",
        "  X_train.append(tweet_emb)\n",
        "\n",
        "X_train = np.array(X_train)"
      ],
      "execution_count": null,
      "outputs": [
        {
          "output_type": "stream",
          "text": [
            "100%|██████████| 27000/27000 [01:24<00:00, 319.20it/s]\n"
          ],
          "name": "stderr"
        }
      ]
    },
    {
      "cell_type": "code",
      "metadata": {
        "id": "dJDxPMGgbUH8",
        "outputId": "58a2cb18-8111-4000-deb9-c3d715932216",
        "colab": {
          "base_uri": "https://localhost:8080/",
          "height": 34
        }
      },
      "source": [
        "X_test = []\n",
        "for tweet in tqdm(test_tweets):\n",
        "  emb = embed([tweet])\n",
        "  tweet_emb = tf.reshape(emb, [-1]).numpy()\n",
        "  X_test.append(tweet_emb)\n",
        "\n",
        "X_test = np.array(X_test)"
      ],
      "execution_count": null,
      "outputs": [
        {
          "output_type": "stream",
          "text": [
            "100%|██████████| 3000/3000 [00:09<00:00, 328.08it/s]\n"
          ],
          "name": "stderr"
        }
      ]
    },
    {
      "cell_type": "code",
      "metadata": {
        "id": "m_ZAP8VaNhPH",
        "outputId": "4696a23a-0193-41b9-d98a-03ec0fffe25a",
        "colab": {
          "base_uri": "https://localhost:8080/",
          "height": 1000
        }
      },
      "source": [
        "X_train[0]"
      ],
      "execution_count": null,
      "outputs": [
        {
          "output_type": "execute_result",
          "data": {
            "text/plain": [
              "array([-3.98432761e-02,  2.84441579e-02, -2.86832191e-02,  5.61104231e-02,\n",
              "        5.15724421e-02,  6.70994148e-02,  6.25403672e-02, -8.70661531e-03,\n",
              "        5.13533428e-02, -8.24834406e-02, -2.97963265e-02,  4.17352691e-02,\n",
              "       -3.65824043e-03,  2.25482453e-02,  7.22542703e-02,  4.55472395e-02,\n",
              "        6.60598576e-02, -5.87332956e-02, -1.95081707e-03,  1.31489960e-02,\n",
              "       -1.57700875e-03, -2.36507505e-02,  4.32440676e-02, -5.61471768e-02,\n",
              "        1.28377965e-02,  4.69849557e-02,  6.28201477e-03,  3.62249166e-02,\n",
              "       -2.88188215e-02, -5.34087941e-02, -5.67139499e-02, -4.33738306e-02,\n",
              "        5.06432839e-02, -3.34700085e-02,  5.02580777e-02,  1.58472043e-02,\n",
              "       -4.00830917e-02, -3.15191485e-02,  4.51376475e-02, -4.32184897e-02,\n",
              "        1.31955063e-02,  1.08858682e-02,  5.43878116e-02, -3.64539549e-02,\n",
              "       -1.44307176e-02,  5.60264178e-02, -2.65796389e-02,  2.42143273e-02,\n",
              "       -3.43400352e-02, -2.58595077e-03, -7.17316568e-02,  3.25008892e-02,\n",
              "       -5.36546484e-03, -7.69934803e-02,  5.10641485e-02,  1.84233170e-02,\n",
              "       -3.96786816e-02, -5.85501343e-02, -2.51398347e-02, -2.09927652e-02,\n",
              "        6.57479838e-02, -3.58440354e-02, -6.73869699e-02, -2.21895054e-02,\n",
              "       -7.54446015e-02, -2.47246977e-02,  2.10781991e-02,  5.06760515e-02,\n",
              "        1.13885328e-02,  5.45668937e-02,  6.10221140e-02,  6.27473220e-02,\n",
              "        5.47188222e-02,  1.30662611e-02, -5.93336299e-02,  4.29814868e-03,\n",
              "       -9.15858150e-03, -7.44814577e-04,  3.49638052e-02, -9.00059193e-03,\n",
              "        4.39431472e-03, -3.02996878e-02,  3.42357680e-02,  6.62711039e-02,\n",
              "       -3.32900025e-02,  1.76835572e-04,  3.30573916e-02, -8.08814839e-02,\n",
              "        1.86203048e-02, -4.32134829e-02, -2.06059515e-02,  5.50129227e-02,\n",
              "       -2.55589075e-02,  5.51734455e-02, -3.68429460e-02,  1.14922402e-02,\n",
              "        1.89155564e-02, -2.79857069e-02, -1.73394848e-02,  2.41114981e-02,\n",
              "        2.68383995e-02,  1.92088988e-02,  4.45265993e-02, -2.86994055e-02,\n",
              "        3.71581428e-02, -4.89000008e-02, -3.98200117e-02, -4.70205583e-02,\n",
              "       -4.80606779e-03, -7.38413408e-02, -1.18031725e-03, -8.05193782e-02,\n",
              "       -3.18245515e-02,  4.04506326e-02,  6.74381014e-03, -5.67421876e-02,\n",
              "       -7.98989274e-03, -7.23772943e-02,  3.18828300e-02, -9.76616703e-03,\n",
              "        1.06827691e-02, -3.51160914e-02, -1.95860788e-02, -5.66862524e-02,\n",
              "       -2.20113583e-02,  4.85856198e-02,  3.92991342e-02,  3.75588983e-02,\n",
              "        4.73116376e-02,  6.62326813e-02,  1.03279911e-02,  4.99554388e-02,\n",
              "        2.57226173e-02,  5.72640821e-03, -3.68932337e-02, -4.58557680e-02,\n",
              "       -1.72348525e-02,  2.97259912e-02, -4.74730730e-02,  5.57878278e-02,\n",
              "        6.90447465e-02,  7.45245814e-02, -3.73460054e-02,  3.20184343e-02,\n",
              "       -8.16436857e-02, -1.56679016e-03, -6.32861406e-02,  2.60360353e-02,\n",
              "        2.65946779e-02,  5.85666522e-02,  3.24636586e-02, -1.55309737e-02,\n",
              "        3.16879377e-02,  2.37677358e-02, -6.71133921e-02,  9.50258784e-03,\n",
              "        4.81969789e-02,  3.96199822e-02,  5.09384423e-02,  2.80956030e-02,\n",
              "       -6.85287118e-02,  2.42470461e-03,  2.83936225e-02, -2.21727714e-02,\n",
              "       -2.40337327e-02,  3.11066024e-02,  5.34838662e-02,  3.52666937e-02,\n",
              "       -6.41938075e-02,  6.45802394e-02,  8.05173516e-02, -7.80052692e-02,\n",
              "        1.57749895e-02, -4.25188467e-02, -3.12964767e-02, -1.52171785e-02,\n",
              "        4.71885391e-02,  3.29565629e-02, -8.15847367e-02,  1.82151888e-02,\n",
              "       -6.75981566e-02, -2.43306030e-02, -2.08371934e-02, -5.87223731e-02,\n",
              "        4.12360625e-03, -3.13160792e-02, -5.21073677e-02, -4.80562374e-02,\n",
              "       -3.13776545e-02,  2.55254935e-02,  5.71369939e-02,  7.92242438e-02,\n",
              "        2.13933922e-02,  3.31719033e-02, -1.78409256e-02, -2.12671421e-02,\n",
              "        6.06287345e-02, -6.69149458e-02,  1.95329939e-03,  6.67845383e-02,\n",
              "        6.70402497e-02,  9.67586040e-03, -1.51857850e-03, -5.66607304e-02,\n",
              "       -3.87492105e-02, -4.31518406e-02, -4.90820706e-02,  5.35986573e-03,\n",
              "        6.37257248e-02, -6.91434890e-02, -6.63386062e-02, -6.58738911e-02,\n",
              "        1.04627130e-03,  4.20276262e-02, -5.64284958e-02, -4.34886068e-02,\n",
              "        4.78032902e-02, -6.17676182e-03,  1.59882158e-02, -5.28676026e-02,\n",
              "        3.96553688e-02, -3.07603162e-02, -3.57303843e-02,  4.16688900e-03,\n",
              "        3.07240039e-02, -3.43080163e-02,  4.33726273e-02, -6.06044475e-03,\n",
              "        1.36877261e-02,  4.62170094e-02, -5.16222864e-02, -5.62871620e-02,\n",
              "        7.33087063e-02, -8.24638680e-02,  6.27952144e-02,  5.10548800e-02,\n",
              "        4.76515852e-03,  2.72427332e-02, -1.80452093e-02,  4.48768400e-02,\n",
              "       -5.73657379e-02, -8.12399015e-02, -4.29239683e-02, -1.54573070e-02,\n",
              "        4.23343368e-02, -1.47922859e-02, -1.03212604e-02, -1.34730376e-02,\n",
              "       -4.15005684e-02,  2.47858725e-02,  6.67938218e-02,  4.16701324e-02,\n",
              "        4.83857095e-02,  1.40987597e-02,  5.33240847e-02, -4.63524908e-02,\n",
              "        3.86481136e-02,  8.02323595e-02,  3.59237492e-02,  1.66312195e-02,\n",
              "        2.71854997e-02, -4.12486680e-02,  1.86334271e-02,  1.94796566e-02,\n",
              "        1.33792241e-03,  7.46077895e-02,  3.80605250e-03, -2.25090850e-02,\n",
              "       -2.65660975e-03, -4.57215197e-02, -1.90422554e-02,  5.37217110e-02,\n",
              "       -1.21148606e-03, -7.17260838e-02,  2.76620928e-02,  2.16745939e-02,\n",
              "       -5.17899506e-02,  6.51732981e-02,  1.39042428e-02,  2.94973403e-02,\n",
              "        6.28876239e-02,  1.79856047e-02,  2.24354267e-02, -4.85242717e-03,\n",
              "        3.57800350e-02, -6.24944530e-02,  6.97721466e-02,  7.24757314e-02,\n",
              "       -2.79601533e-02, -1.71219837e-02,  2.34446824e-02,  1.61668286e-02,\n",
              "       -2.32442785e-02,  3.85009535e-02,  1.77855585e-02,  2.80648917e-02,\n",
              "        2.36251280e-02, -2.26366632e-02, -6.58391267e-02,  6.72791749e-02,\n",
              "        1.53415033e-03, -5.46314567e-02, -1.46804480e-02, -3.08791604e-02,\n",
              "       -5.59288152e-02, -2.83617042e-02,  7.64914528e-02, -2.05738265e-02,\n",
              "       -1.43112727e-02,  1.49970201e-05, -2.80975830e-02, -5.71193919e-02,\n",
              "       -3.93396504e-02, -1.50770517e-02, -6.74806088e-02, -4.92779799e-02,\n",
              "        1.44166062e-02,  6.84308931e-02,  6.63666278e-02,  3.56672406e-02,\n",
              "       -1.77568831e-02,  1.67698264e-02,  4.78649400e-02, -9.81827453e-03,\n",
              "        2.44514327e-02, -3.09367627e-02,  4.53446805e-02, -6.25782311e-02,\n",
              "       -7.54593685e-02,  2.74043158e-02,  1.92230218e-03,  2.76182741e-02,\n",
              "        4.68301922e-02,  7.21420795e-02,  2.78822053e-02,  5.61178476e-02,\n",
              "        5.70394145e-03, -3.20010036e-02,  6.43700536e-04, -6.20920211e-02,\n",
              "        7.68751418e-03, -4.51404862e-02,  2.03068014e-02,  8.21502283e-02,\n",
              "        1.85699277e-02, -1.16525861e-02,  2.21686233e-02, -3.01687960e-02,\n",
              "        3.29832509e-02, -7.19708428e-02, -6.85254708e-02,  2.72138063e-02,\n",
              "       -6.84780106e-02, -1.89763810e-02, -8.20176676e-02,  1.50288651e-02,\n",
              "       -7.96465501e-02,  6.81527844e-03, -3.54883075e-02, -1.02374945e-02,\n",
              "       -3.91975269e-02, -2.79282574e-02,  6.07838109e-02, -3.78507264e-02,\n",
              "       -3.62160467e-02, -5.77632375e-02,  5.98816872e-02,  4.52176146e-02,\n",
              "        7.19968006e-02,  3.34216543e-02,  6.90099970e-02, -6.20516613e-02,\n",
              "       -5.01741953e-02,  3.14414082e-03,  2.81594470e-02,  4.09371927e-02,\n",
              "        7.50911832e-02, -2.74028815e-02, -5.32296486e-02, -7.99360052e-02,\n",
              "        4.24029725e-03,  9.77595989e-03, -8.20907503e-02, -2.15173066e-02,\n",
              "        3.39522064e-02, -7.97851533e-02,  1.74201969e-02,  8.43217224e-03,\n",
              "       -7.37737417e-02, -8.95563699e-03,  6.52861819e-02, -4.05373797e-02,\n",
              "        1.80940442e-02, -2.78722364e-02, -4.40261438e-02, -3.73148285e-02,\n",
              "       -5.69497719e-02, -1.47780618e-02,  1.05972765e-02, -2.50763632e-03,\n",
              "       -1.74784083e-02, -5.23525849e-02, -3.17650214e-02, -4.47788369e-03,\n",
              "       -3.75283472e-02, -2.28506122e-02, -4.31000143e-02, -5.08995652e-02,\n",
              "       -7.06327632e-02, -4.63806689e-02, -6.67573791e-03,  7.27629848e-03,\n",
              "        3.49773355e-02,  2.46456917e-02,  6.24821484e-02, -3.03825596e-03,\n",
              "        3.04928161e-02,  3.56075875e-02, -7.47865662e-02,  3.03300470e-02,\n",
              "       -7.80105889e-02, -5.16754910e-02, -1.17077976e-02,  5.84861189e-02,\n",
              "        4.84925084e-04,  6.95290864e-02, -6.40686676e-02, -9.90528986e-03,\n",
              "       -7.03467429e-02, -4.87738401e-02,  5.30509129e-02, -4.72382456e-02,\n",
              "       -5.23430333e-02,  4.56993505e-02,  1.97943114e-02,  2.69331429e-02,\n",
              "        1.73463672e-02, -2.16258354e-02, -5.00694895e-03, -6.19780505e-03,\n",
              "        2.76537947e-02, -3.81601155e-02,  5.80893345e-02,  3.52971256e-02,\n",
              "       -3.26759405e-02, -4.10391465e-02, -6.80943578e-02,  1.00434208e-02,\n",
              "        7.98651725e-02,  4.13767174e-02,  7.56654481e-04, -3.39861549e-02,\n",
              "        3.19234803e-02, -1.81915089e-02, -2.87370626e-02, -6.77821562e-02,\n",
              "        5.61425835e-02,  7.46368319e-02, -7.91029334e-02, -5.79320267e-02,\n",
              "        7.71592632e-02, -5.68318851e-02,  1.64862559e-03, -4.93135862e-02,\n",
              "        2.87497370e-03,  1.66314971e-02,  8.00846070e-02,  2.05173194e-02,\n",
              "       -7.27775767e-02,  5.28575853e-02, -7.47208744e-02,  3.49459425e-02,\n",
              "       -2.29582377e-02,  3.07085793e-02, -2.28227545e-02, -7.94020817e-02,\n",
              "        2.42072567e-02, -6.62150979e-02,  6.94399849e-02,  1.15765734e-02,\n",
              "        5.93599156e-02,  5.41960709e-02,  6.63461909e-02, -7.46529847e-02,\n",
              "        5.59532642e-03,  4.65006121e-02, -5.13497032e-02, -1.87947564e-02,\n",
              "        2.89827446e-03, -1.50687080e-02,  8.15178156e-02, -3.52742858e-02,\n",
              "       -5.88762797e-02, -4.17031087e-02,  4.43200879e-02, -1.46291766e-03,\n",
              "        3.84148248e-02, -5.23823835e-02,  3.96119580e-02, -4.46861535e-02,\n",
              "        5.80523051e-02, -6.35660365e-02, -2.69050058e-03, -4.72794920e-02,\n",
              "        7.40584657e-02, -5.30503877e-03, -1.40675053e-03,  3.02865617e-02,\n",
              "       -4.28902581e-02,  5.23249432e-02, -1.28541915e-02,  4.62952666e-02],\n",
              "      dtype=float32)"
            ]
          },
          "metadata": {
            "tags": []
          },
          "execution_count": 40
        }
      ]
    },
    {
      "cell_type": "code",
      "metadata": {
        "id": "Zcacm1F8OFds"
      },
      "source": [
        "model = tf.keras.Sequential()\n",
        "model.add(tf.keras.layers.Dense(256, input_shape=(X_train.shape[1],)))\n",
        "model.add(tf.keras.layers.Dropout(rate=0.5))\n",
        "model.add(tf.keras.layers.Dense(128, activation='relu'))\n",
        "model.add(tf.keras.layers.Dropout(rate=0.5))\n",
        "model.add(tf.keras.layers.Dense(2, activation='softmax'))"
      ],
      "execution_count": null,
      "outputs": []
    },
    {
      "cell_type": "code",
      "metadata": {
        "id": "f0Gla05RWdcW"
      },
      "source": [
        "model.compile(\n",
        "    loss=\"categorical_crossentropy\",\n",
        "    optimizer=\"adam\",\n",
        "    metrics=[\"accuracy\"]\n",
        ")"
      ],
      "execution_count": null,
      "outputs": []
    },
    {
      "cell_type": "code",
      "metadata": {
        "id": "cd2F5Q5VXW9Y",
        "outputId": "e77fba5a-faab-4751-bb7b-09b58bbd7d31",
        "colab": {
          "base_uri": "https://localhost:8080/",
          "height": 1000
        }
      },
      "source": [
        "history = model.fit(\n",
        "    X_train, y_train, epochs=100, batch_size=16, validation_split=0.1, verbose=1, shuffle=True\n",
        ")"
      ],
      "execution_count": null,
      "outputs": [
        {
          "output_type": "stream",
          "text": [
            "Epoch 1/100\n",
            "1519/1519 [==============================] - 4s 3ms/step - loss: 0.5240 - accuracy: 0.7405 - val_loss: 0.4948 - val_accuracy: 0.7693\n",
            "Epoch 2/100\n",
            "1519/1519 [==============================] - 4s 3ms/step - loss: 0.4986 - accuracy: 0.7582 - val_loss: 0.4989 - val_accuracy: 0.7681\n",
            "Epoch 3/100\n",
            "1519/1519 [==============================] - 4s 3ms/step - loss: 0.4944 - accuracy: 0.7610 - val_loss: 0.4948 - val_accuracy: 0.7637\n",
            "Epoch 4/100\n",
            "1519/1519 [==============================] - 4s 3ms/step - loss: 0.4913 - accuracy: 0.7644 - val_loss: 0.5010 - val_accuracy: 0.7611\n",
            "Epoch 5/100\n",
            "1519/1519 [==============================] - 4s 2ms/step - loss: 0.4865 - accuracy: 0.7684 - val_loss: 0.4973 - val_accuracy: 0.7600\n",
            "Epoch 6/100\n",
            "1519/1519 [==============================] - 4s 3ms/step - loss: 0.4806 - accuracy: 0.7707 - val_loss: 0.4950 - val_accuracy: 0.7711\n",
            "Epoch 7/100\n",
            "1519/1519 [==============================] - 4s 3ms/step - loss: 0.4797 - accuracy: 0.7709 - val_loss: 0.4893 - val_accuracy: 0.7626\n",
            "Epoch 8/100\n",
            "1519/1519 [==============================] - 4s 3ms/step - loss: 0.4752 - accuracy: 0.7732 - val_loss: 0.4907 - val_accuracy: 0.7681\n",
            "Epoch 9/100\n",
            "1519/1519 [==============================] - 4s 3ms/step - loss: 0.4710 - accuracy: 0.7759 - val_loss: 0.4933 - val_accuracy: 0.7681\n",
            "Epoch 10/100\n",
            "1519/1519 [==============================] - 4s 3ms/step - loss: 0.4708 - accuracy: 0.7762 - val_loss: 0.4880 - val_accuracy: 0.7670\n",
            "Epoch 11/100\n",
            "1519/1519 [==============================] - 5s 3ms/step - loss: 0.4671 - accuracy: 0.7765 - val_loss: 0.4815 - val_accuracy: 0.7719\n",
            "Epoch 12/100\n",
            "1519/1519 [==============================] - 4s 3ms/step - loss: 0.4633 - accuracy: 0.7814 - val_loss: 0.4849 - val_accuracy: 0.7759\n",
            "Epoch 13/100\n",
            "1519/1519 [==============================] - 4s 3ms/step - loss: 0.4608 - accuracy: 0.7805 - val_loss: 0.4865 - val_accuracy: 0.7748\n",
            "Epoch 14/100\n",
            "1519/1519 [==============================] - 4s 3ms/step - loss: 0.4600 - accuracy: 0.7813 - val_loss: 0.4859 - val_accuracy: 0.7756\n",
            "Epoch 15/100\n",
            "1519/1519 [==============================] - 4s 3ms/step - loss: 0.4547 - accuracy: 0.7843 - val_loss: 0.4887 - val_accuracy: 0.7722\n",
            "Epoch 16/100\n",
            "1519/1519 [==============================] - 6s 4ms/step - loss: 0.4547 - accuracy: 0.7860 - val_loss: 0.4978 - val_accuracy: 0.7607\n",
            "Epoch 17/100\n",
            "1519/1519 [==============================] - 4s 3ms/step - loss: 0.4538 - accuracy: 0.7842 - val_loss: 0.4916 - val_accuracy: 0.7719\n",
            "Epoch 18/100\n",
            "1519/1519 [==============================] - 4s 3ms/step - loss: 0.4518 - accuracy: 0.7854 - val_loss: 0.4881 - val_accuracy: 0.7741\n",
            "Epoch 19/100\n",
            "1519/1519 [==============================] - 4s 3ms/step - loss: 0.4472 - accuracy: 0.7892 - val_loss: 0.4990 - val_accuracy: 0.7670\n",
            "Epoch 20/100\n",
            "1519/1519 [==============================] - 4s 3ms/step - loss: 0.4472 - accuracy: 0.7849 - val_loss: 0.5030 - val_accuracy: 0.7681\n",
            "Epoch 21/100\n",
            "1519/1519 [==============================] - 4s 3ms/step - loss: 0.4475 - accuracy: 0.7860 - val_loss: 0.4946 - val_accuracy: 0.7700\n",
            "Epoch 22/100\n",
            "1519/1519 [==============================] - 4s 3ms/step - loss: 0.4455 - accuracy: 0.7889 - val_loss: 0.4982 - val_accuracy: 0.7704\n",
            "Epoch 23/100\n",
            "1519/1519 [==============================] - 4s 3ms/step - loss: 0.4434 - accuracy: 0.7913 - val_loss: 0.5007 - val_accuracy: 0.7700\n",
            "Epoch 24/100\n",
            "1519/1519 [==============================] - 4s 3ms/step - loss: 0.4428 - accuracy: 0.7887 - val_loss: 0.4936 - val_accuracy: 0.7663\n",
            "Epoch 25/100\n",
            "1519/1519 [==============================] - 4s 3ms/step - loss: 0.4402 - accuracy: 0.7924 - val_loss: 0.4992 - val_accuracy: 0.7719\n",
            "Epoch 26/100\n",
            "1519/1519 [==============================] - 4s 3ms/step - loss: 0.4381 - accuracy: 0.7954 - val_loss: 0.5110 - val_accuracy: 0.7659\n",
            "Epoch 27/100\n",
            "1519/1519 [==============================] - 4s 3ms/step - loss: 0.4374 - accuracy: 0.7944 - val_loss: 0.5015 - val_accuracy: 0.7659\n",
            "Epoch 28/100\n",
            "1519/1519 [==============================] - 4s 3ms/step - loss: 0.4322 - accuracy: 0.7973 - val_loss: 0.5042 - val_accuracy: 0.7615\n",
            "Epoch 29/100\n",
            "1519/1519 [==============================] - 4s 3ms/step - loss: 0.4314 - accuracy: 0.7970 - val_loss: 0.5034 - val_accuracy: 0.7707\n",
            "Epoch 30/100\n",
            "1519/1519 [==============================] - 4s 3ms/step - loss: 0.4303 - accuracy: 0.7956 - val_loss: 0.5019 - val_accuracy: 0.7674\n",
            "Epoch 31/100\n",
            "1519/1519 [==============================] - 4s 3ms/step - loss: 0.4270 - accuracy: 0.7999 - val_loss: 0.5076 - val_accuracy: 0.7678\n",
            "Epoch 32/100\n",
            "1519/1519 [==============================] - 4s 3ms/step - loss: 0.4276 - accuracy: 0.7957 - val_loss: 0.5051 - val_accuracy: 0.7667\n",
            "Epoch 33/100\n",
            "1519/1519 [==============================] - 4s 3ms/step - loss: 0.4252 - accuracy: 0.8003 - val_loss: 0.5208 - val_accuracy: 0.7674\n",
            "Epoch 34/100\n",
            "1519/1519 [==============================] - 4s 3ms/step - loss: 0.4246 - accuracy: 0.8020 - val_loss: 0.5198 - val_accuracy: 0.7641\n",
            "Epoch 35/100\n",
            "1519/1519 [==============================] - 4s 3ms/step - loss: 0.4230 - accuracy: 0.8004 - val_loss: 0.5065 - val_accuracy: 0.7678\n",
            "Epoch 36/100\n",
            "1519/1519 [==============================] - 4s 3ms/step - loss: 0.4239 - accuracy: 0.7993 - val_loss: 0.5065 - val_accuracy: 0.7674\n",
            "Epoch 37/100\n",
            "1519/1519 [==============================] - 4s 3ms/step - loss: 0.4201 - accuracy: 0.8047 - val_loss: 0.5129 - val_accuracy: 0.7622\n",
            "Epoch 38/100\n",
            "1519/1519 [==============================] - 4s 3ms/step - loss: 0.4228 - accuracy: 0.7998 - val_loss: 0.5156 - val_accuracy: 0.7563\n",
            "Epoch 39/100\n",
            "1519/1519 [==============================] - 4s 3ms/step - loss: 0.4220 - accuracy: 0.8007 - val_loss: 0.5050 - val_accuracy: 0.7667\n",
            "Epoch 40/100\n",
            "1519/1519 [==============================] - 4s 3ms/step - loss: 0.4191 - accuracy: 0.8033 - val_loss: 0.5156 - val_accuracy: 0.7622\n",
            "Epoch 41/100\n",
            "1519/1519 [==============================] - 4s 3ms/step - loss: 0.4177 - accuracy: 0.8018 - val_loss: 0.5109 - val_accuracy: 0.7589\n",
            "Epoch 42/100\n",
            "1519/1519 [==============================] - 4s 3ms/step - loss: 0.4148 - accuracy: 0.8034 - val_loss: 0.5213 - val_accuracy: 0.7630\n",
            "Epoch 43/100\n",
            "1519/1519 [==============================] - 4s 3ms/step - loss: 0.4152 - accuracy: 0.8023 - val_loss: 0.5221 - val_accuracy: 0.7615\n",
            "Epoch 44/100\n",
            "1519/1519 [==============================] - 4s 3ms/step - loss: 0.4155 - accuracy: 0.8046 - val_loss: 0.5207 - val_accuracy: 0.7593\n",
            "Epoch 45/100\n",
            "1519/1519 [==============================] - 4s 3ms/step - loss: 0.4147 - accuracy: 0.8042 - val_loss: 0.5285 - val_accuracy: 0.7630\n",
            "Epoch 46/100\n",
            "1519/1519 [==============================] - 4s 3ms/step - loss: 0.4115 - accuracy: 0.8046 - val_loss: 0.5176 - val_accuracy: 0.7589\n",
            "Epoch 47/100\n",
            "1519/1519 [==============================] - 4s 3ms/step - loss: 0.4079 - accuracy: 0.8092 - val_loss: 0.5197 - val_accuracy: 0.7589\n",
            "Epoch 48/100\n",
            "1519/1519 [==============================] - 4s 3ms/step - loss: 0.4093 - accuracy: 0.8061 - val_loss: 0.5257 - val_accuracy: 0.7593\n",
            "Epoch 49/100\n",
            "1519/1519 [==============================] - 5s 3ms/step - loss: 0.4105 - accuracy: 0.8062 - val_loss: 0.5242 - val_accuracy: 0.7619\n",
            "Epoch 50/100\n",
            "1519/1519 [==============================] - 5s 3ms/step - loss: 0.4116 - accuracy: 0.8055 - val_loss: 0.5251 - val_accuracy: 0.7659\n",
            "Epoch 51/100\n",
            "1519/1519 [==============================] - 4s 3ms/step - loss: 0.4071 - accuracy: 0.8064 - val_loss: 0.5282 - val_accuracy: 0.7604\n",
            "Epoch 52/100\n",
            "1519/1519 [==============================] - 4s 3ms/step - loss: 0.4055 - accuracy: 0.8088 - val_loss: 0.5364 - val_accuracy: 0.7604\n",
            "Epoch 53/100\n",
            "1519/1519 [==============================] - 4s 3ms/step - loss: 0.4046 - accuracy: 0.8089 - val_loss: 0.5447 - val_accuracy: 0.7589\n",
            "Epoch 54/100\n",
            "1519/1519 [==============================] - 4s 3ms/step - loss: 0.4017 - accuracy: 0.8098 - val_loss: 0.5335 - val_accuracy: 0.7559\n",
            "Epoch 55/100\n",
            "1519/1519 [==============================] - 4s 3ms/step - loss: 0.4041 - accuracy: 0.8078 - val_loss: 0.5254 - val_accuracy: 0.7504\n",
            "Epoch 56/100\n",
            "1519/1519 [==============================] - 4s 3ms/step - loss: 0.4021 - accuracy: 0.8098 - val_loss: 0.5404 - val_accuracy: 0.7604\n",
            "Epoch 57/100\n",
            "1519/1519 [==============================] - 4s 3ms/step - loss: 0.3969 - accuracy: 0.8130 - val_loss: 0.5407 - val_accuracy: 0.7519\n",
            "Epoch 58/100\n",
            "1519/1519 [==============================] - 4s 3ms/step - loss: 0.3979 - accuracy: 0.8125 - val_loss: 0.5375 - val_accuracy: 0.7581\n",
            "Epoch 59/100\n",
            "1519/1519 [==============================] - 4s 3ms/step - loss: 0.3992 - accuracy: 0.8087 - val_loss: 0.5473 - val_accuracy: 0.7541\n",
            "Epoch 60/100\n",
            "1519/1519 [==============================] - 4s 3ms/step - loss: 0.4001 - accuracy: 0.8117 - val_loss: 0.5442 - val_accuracy: 0.7430\n",
            "Epoch 61/100\n",
            "1519/1519 [==============================] - 4s 3ms/step - loss: 0.3966 - accuracy: 0.8130 - val_loss: 0.5423 - val_accuracy: 0.7552\n",
            "Epoch 62/100\n",
            "1519/1519 [==============================] - 4s 3ms/step - loss: 0.3977 - accuracy: 0.8156 - val_loss: 0.5377 - val_accuracy: 0.7548\n",
            "Epoch 63/100\n",
            "1519/1519 [==============================] - 4s 3ms/step - loss: 0.3949 - accuracy: 0.8144 - val_loss: 0.5487 - val_accuracy: 0.7563\n",
            "Epoch 64/100\n",
            "1519/1519 [==============================] - 4s 3ms/step - loss: 0.3975 - accuracy: 0.8117 - val_loss: 0.5463 - val_accuracy: 0.7622\n",
            "Epoch 65/100\n",
            "1519/1519 [==============================] - 4s 3ms/step - loss: 0.3956 - accuracy: 0.8136 - val_loss: 0.5488 - val_accuracy: 0.7570\n",
            "Epoch 66/100\n",
            "1519/1519 [==============================] - 4s 3ms/step - loss: 0.3976 - accuracy: 0.8127 - val_loss: 0.5488 - val_accuracy: 0.7496\n",
            "Epoch 67/100\n",
            "1519/1519 [==============================] - 4s 3ms/step - loss: 0.3910 - accuracy: 0.8167 - val_loss: 0.5477 - val_accuracy: 0.7533\n",
            "Epoch 68/100\n",
            "1519/1519 [==============================] - 4s 3ms/step - loss: 0.3905 - accuracy: 0.8164 - val_loss: 0.5738 - val_accuracy: 0.7563\n",
            "Epoch 69/100\n",
            "1519/1519 [==============================] - 4s 3ms/step - loss: 0.3893 - accuracy: 0.8149 - val_loss: 0.5635 - val_accuracy: 0.7470\n",
            "Epoch 70/100\n",
            "1519/1519 [==============================] - 4s 3ms/step - loss: 0.3854 - accuracy: 0.8161 - val_loss: 0.5654 - val_accuracy: 0.7496\n",
            "Epoch 71/100\n",
            "1519/1519 [==============================] - 4s 3ms/step - loss: 0.3910 - accuracy: 0.8163 - val_loss: 0.5565 - val_accuracy: 0.7559\n",
            "Epoch 72/100\n",
            "1519/1519 [==============================] - 4s 3ms/step - loss: 0.3859 - accuracy: 0.8175 - val_loss: 0.5558 - val_accuracy: 0.7526\n",
            "Epoch 73/100\n",
            "1519/1519 [==============================] - 4s 3ms/step - loss: 0.3833 - accuracy: 0.8201 - val_loss: 0.5612 - val_accuracy: 0.7552\n",
            "Epoch 74/100\n",
            "1519/1519 [==============================] - 4s 3ms/step - loss: 0.3856 - accuracy: 0.8181 - val_loss: 0.5568 - val_accuracy: 0.7530\n",
            "Epoch 75/100\n",
            "1519/1519 [==============================] - 4s 3ms/step - loss: 0.3798 - accuracy: 0.8199 - val_loss: 0.5588 - val_accuracy: 0.7485\n",
            "Epoch 76/100\n",
            "1519/1519 [==============================] - 4s 3ms/step - loss: 0.3878 - accuracy: 0.8186 - val_loss: 0.5606 - val_accuracy: 0.7544\n",
            "Epoch 77/100\n",
            "1519/1519 [==============================] - 4s 3ms/step - loss: 0.3797 - accuracy: 0.8184 - val_loss: 0.5631 - val_accuracy: 0.7470\n",
            "Epoch 78/100\n",
            "1519/1519 [==============================] - 4s 3ms/step - loss: 0.3812 - accuracy: 0.8226 - val_loss: 0.5519 - val_accuracy: 0.7467\n",
            "Epoch 79/100\n",
            "1519/1519 [==============================] - 4s 3ms/step - loss: 0.3844 - accuracy: 0.8165 - val_loss: 0.5554 - val_accuracy: 0.7548\n",
            "Epoch 80/100\n",
            "1519/1519 [==============================] - 4s 3ms/step - loss: 0.3797 - accuracy: 0.8214 - val_loss: 0.5589 - val_accuracy: 0.7489\n",
            "Epoch 81/100\n",
            "1519/1519 [==============================] - 4s 3ms/step - loss: 0.3789 - accuracy: 0.8222 - val_loss: 0.5824 - val_accuracy: 0.7567\n",
            "Epoch 82/100\n",
            "1519/1519 [==============================] - 5s 3ms/step - loss: 0.3808 - accuracy: 0.8208 - val_loss: 0.5566 - val_accuracy: 0.7581\n",
            "Epoch 83/100\n",
            "1519/1519 [==============================] - 5s 3ms/step - loss: 0.3766 - accuracy: 0.8238 - val_loss: 0.5805 - val_accuracy: 0.7593\n",
            "Epoch 84/100\n",
            "1519/1519 [==============================] - 4s 3ms/step - loss: 0.3852 - accuracy: 0.8201 - val_loss: 0.5714 - val_accuracy: 0.7589\n",
            "Epoch 85/100\n",
            "1519/1519 [==============================] - 4s 3ms/step - loss: 0.3743 - accuracy: 0.8211 - val_loss: 0.5752 - val_accuracy: 0.7496\n",
            "Epoch 86/100\n",
            "1519/1519 [==============================] - 4s 3ms/step - loss: 0.3724 - accuracy: 0.8224 - val_loss: 0.5677 - val_accuracy: 0.7489\n",
            "Epoch 87/100\n",
            "1519/1519 [==============================] - 5s 3ms/step - loss: 0.3731 - accuracy: 0.8233 - val_loss: 0.5674 - val_accuracy: 0.7470\n",
            "Epoch 88/100\n",
            "1519/1519 [==============================] - 4s 3ms/step - loss: 0.3751 - accuracy: 0.8260 - val_loss: 0.5678 - val_accuracy: 0.7526\n",
            "Epoch 89/100\n",
            "1519/1519 [==============================] - 4s 3ms/step - loss: 0.3755 - accuracy: 0.8240 - val_loss: 0.5575 - val_accuracy: 0.7467\n",
            "Epoch 90/100\n",
            "1519/1519 [==============================] - 4s 3ms/step - loss: 0.3721 - accuracy: 0.8267 - val_loss: 0.5710 - val_accuracy: 0.7615\n",
            "Epoch 91/100\n",
            "1519/1519 [==============================] - 4s 3ms/step - loss: 0.3747 - accuracy: 0.8245 - val_loss: 0.5703 - val_accuracy: 0.7530\n",
            "Epoch 92/100\n",
            "1519/1519 [==============================] - 5s 3ms/step - loss: 0.3690 - accuracy: 0.8270 - val_loss: 0.5717 - val_accuracy: 0.7530\n",
            "Epoch 93/100\n",
            "1519/1519 [==============================] - 4s 3ms/step - loss: 0.3717 - accuracy: 0.8233 - val_loss: 0.5824 - val_accuracy: 0.7530\n",
            "Epoch 94/100\n",
            "1519/1519 [==============================] - 4s 3ms/step - loss: 0.3700 - accuracy: 0.8272 - val_loss: 0.5730 - val_accuracy: 0.7552\n",
            "Epoch 95/100\n",
            "1519/1519 [==============================] - 4s 3ms/step - loss: 0.3658 - accuracy: 0.8265 - val_loss: 0.5939 - val_accuracy: 0.7559\n",
            "Epoch 96/100\n",
            "1519/1519 [==============================] - 4s 3ms/step - loss: 0.3675 - accuracy: 0.8284 - val_loss: 0.5879 - val_accuracy: 0.7507\n",
            "Epoch 97/100\n",
            "1519/1519 [==============================] - 4s 3ms/step - loss: 0.3694 - accuracy: 0.8244 - val_loss: 0.5835 - val_accuracy: 0.7500\n",
            "Epoch 98/100\n",
            "1519/1519 [==============================] - 4s 3ms/step - loss: 0.3681 - accuracy: 0.8247 - val_loss: 0.5899 - val_accuracy: 0.7504\n",
            "Epoch 99/100\n",
            "1519/1519 [==============================] - 4s 3ms/step - loss: 0.3657 - accuracy: 0.8270 - val_loss: 0.5792 - val_accuracy: 0.7526\n",
            "Epoch 100/100\n",
            "1519/1519 [==============================] - 4s 3ms/step - loss: 0.3611 - accuracy: 0.8292 - val_loss: 0.6036 - val_accuracy: 0.7541\n"
          ],
          "name": "stdout"
        }
      ]
    },
    {
      "cell_type": "code",
      "metadata": {
        "id": "A7PjokL1ZAgg"
      },
      "source": [
        "# model.evaluate(X_test, y_test)"
      ],
      "execution_count": null,
      "outputs": []
    },
    {
      "cell_type": "code",
      "metadata": {
        "id": "tXzJ9_ArZf6o",
        "outputId": "d3b01040-bfbc-40b8-a296-fd54ac2d8a75",
        "colab": {
          "base_uri": "https://localhost:8080/",
          "height": 68
        }
      },
      "source": [
        "print(train_tweets.iloc[2])"
      ],
      "execution_count": null,
      "outputs": [
        {
          "output_type": "stream",
          "text": [
            "Restaurants and bars should remain take-out only until we're sure that we've flattened the curve or we've moved on from COVID-19 entirely.\r\r\n",
            "\r\r\n",
            "I grieve with my fellow people in food service, but the demand for our service will be so high once we can open again, it's actually unsafe.\n"
          ],
          "name": "stdout"
        }
      ]
    },
    {
      "cell_type": "code",
      "metadata": {
        "id": "lo5sBAEcax49",
        "outputId": "b78f7540-70a9-404c-a5f0-109e212e7118",
        "colab": {
          "base_uri": "https://localhost:8080/",
          "height": 136
        }
      },
      "source": [
        "y_train"
      ],
      "execution_count": null,
      "outputs": [
        {
          "output_type": "execute_result",
          "data": {
            "text/plain": [
              "array([[1., 0.],\n",
              "       [0., 1.],\n",
              "       [1., 0.],\n",
              "       ...,\n",
              "       [1., 0.],\n",
              "       [0., 1.],\n",
              "       [0., 1.]])"
            ]
          },
          "metadata": {
            "tags": []
          },
          "execution_count": 46
        }
      ]
    },
    {
      "cell_type": "code",
      "metadata": {
        "id": "CtwZuaRSZ-zF",
        "outputId": "c5534d3f-2587-458f-a3d1-1e7b1d84e882",
        "colab": {
          "base_uri": "https://localhost:8080/",
          "height": 34
        }
      },
      "source": [
        "print(\"Negative\" if y_train[0][0] == 1 else \"Positive\")"
      ],
      "execution_count": null,
      "outputs": [
        {
          "output_type": "stream",
          "text": [
            "Negative\n"
          ],
          "name": "stdout"
        }
      ]
    },
    {
      "cell_type": "code",
      "metadata": {
        "id": "8UTVxrIJbF67"
      },
      "source": [
        "y_pred = model.predict(X_test[:1])"
      ],
      "execution_count": null,
      "outputs": []
    },
    {
      "cell_type": "code",
      "metadata": {
        "id": "nuM7kMjecUEy",
        "outputId": "0e27176e-2f76-4aa7-9fb1-68c70faa3e57",
        "colab": {
          "base_uri": "https://localhost:8080/",
          "height": 34
        }
      },
      "source": [
        "print(y_pred)"
      ],
      "execution_count": null,
      "outputs": [
        {
          "output_type": "stream",
          "text": [
            "[[0.99868053 0.00131948]]\n"
          ],
          "name": "stdout"
        }
      ]
    },
    {
      "cell_type": "code",
      "metadata": {
        "id": "H6V1d4PEctYH",
        "outputId": "08eefdb0-a9c9-449f-d397-fc67e7fcadf8",
        "colab": {
          "base_uri": "https://localhost:8080/",
          "height": 34
        }
      },
      "source": [
        "print(test_tweets.iloc[1])"
      ],
      "execution_count": null,
      "outputs": [
        {
          "output_type": "stream",
          "text": [
            "outbreak A 20 mkg shortfall at last year s unit prices would translate into a trade deficit of more than 64 million Avishek reports\n"
          ],
          "name": "stdout"
        }
      ]
    },
    {
      "cell_type": "code",
      "metadata": {
        "id": "EJlBqFfwc4op",
        "outputId": "61de7cf8-7639-4627-b266-d22c7df82884",
        "colab": {
          "base_uri": "https://localhost:8080/",
          "height": 34
        }
      },
      "source": [
        "print(\"Negative\" if y_test[1][0] == 1 else \"Positive\")"
      ],
      "execution_count": null,
      "outputs": [
        {
          "output_type": "stream",
          "text": [
            "Negative\n"
          ],
          "name": "stdout"
        }
      ]
    },
    {
      "cell_type": "code",
      "metadata": {
        "id": "FBV3vZMHdOQY",
        "outputId": "68673668-ccd5-4a30-a291-4e1db160607f",
        "colab": {
          "base_uri": "https://localhost:8080/",
          "height": 34
        }
      },
      "source": [
        "model.predict(X_test[1:2])"
      ],
      "execution_count": null,
      "outputs": [
        {
          "output_type": "execute_result",
          "data": {
            "text/plain": [
              "array([[0.9857041 , 0.01429588]], dtype=float32)"
            ]
          },
          "metadata": {
            "tags": []
          },
          "execution_count": 52
        }
      ]
    },
    {
      "cell_type": "code",
      "metadata": {
        "id": "VOZpQqpjdjSh",
        "outputId": "de493908-c12d-4847-8f7f-9c8af620c2ad",
        "colab": {
          "base_uri": "https://localhost:8080/",
          "height": 54
        }
      },
      "source": [
        "print(test_tweets.iloc[2])"
      ],
      "execution_count": null,
      "outputs": [
        {
          "output_type": "stream",
          "text": [
            "Advice Direct Scotland have launched a dedicated site providing advice amp information for issues affected by the pandemic Up to date advice is available for employment housing benefits amp consumer issues\n"
          ],
          "name": "stdout"
        }
      ]
    },
    {
      "cell_type": "code",
      "metadata": {
        "id": "H9o5w3HbdqKf",
        "outputId": "7fba8d25-8523-4bf7-a99a-0e5188b8db3d",
        "colab": {
          "base_uri": "https://localhost:8080/",
          "height": 34
        }
      },
      "source": [
        "print(\"Negative\" if y_test[2][0] == 1 else \"Positive\")"
      ],
      "execution_count": null,
      "outputs": [
        {
          "output_type": "stream",
          "text": [
            "Positive\n"
          ],
          "name": "stdout"
        }
      ]
    },
    {
      "cell_type": "code",
      "metadata": {
        "id": "1WeoeWlNd4r9",
        "outputId": "448b6949-3f82-4c03-edb3-5877392e68d4",
        "colab": {
          "base_uri": "https://localhost:8080/",
          "height": 34
        }
      },
      "source": [
        "model.predict(X_test[2:3])"
      ],
      "execution_count": null,
      "outputs": [
        {
          "output_type": "execute_result",
          "data": {
            "text/plain": [
              "array([[0.02567656, 0.9743234 ]], dtype=float32)"
            ]
          },
          "metadata": {
            "tags": []
          },
          "execution_count": 55
        }
      ]
    },
    {
      "cell_type": "code",
      "metadata": {
        "id": "8KDMZq2_eIDA",
        "outputId": "9e39ad08-3ae2-4aa0-e377-44e9cf81f90d",
        "colab": {
          "base_uri": "https://localhost:8080/",
          "height": 54
        }
      },
      "source": [
        "print(test_tweets.iloc[3])"
      ],
      "execution_count": null,
      "outputs": [
        {
          "output_type": "stream",
          "text": [
            "Limit your risks while at the grocery store or when getting goods delivered. Get tips from a microbiologist and doctor at https://t.co/Psh0BMDHcM #InTheKnow https://t.co/g4sUaPJto4\n"
          ],
          "name": "stdout"
        }
      ]
    },
    {
      "cell_type": "code",
      "metadata": {
        "id": "DXEad4hZePj_",
        "outputId": "0285f76c-409e-4729-9550-180508f28b4a",
        "colab": {
          "base_uri": "https://localhost:8080/",
          "height": 34
        }
      },
      "source": [
        "print(\"Negative\" if y_test[3][0] == 1 else \"Positive\")"
      ],
      "execution_count": null,
      "outputs": [
        {
          "output_type": "stream",
          "text": [
            "Negative\n"
          ],
          "name": "stdout"
        }
      ]
    },
    {
      "cell_type": "code",
      "metadata": {
        "id": "lAoKTXH8eYX1",
        "outputId": "8717072e-7f31-4392-8410-d5d165fc7970",
        "colab": {
          "base_uri": "https://localhost:8080/",
          "height": 34
        }
      },
      "source": [
        "model.predict(X_test[3:4])"
      ],
      "execution_count": null,
      "outputs": [
        {
          "output_type": "execute_result",
          "data": {
            "text/plain": [
              "array([[0.47045618, 0.5295439 ]], dtype=float32)"
            ]
          },
          "metadata": {
            "tags": []
          },
          "execution_count": 58
        }
      ]
    },
    {
      "cell_type": "code",
      "metadata": {
        "id": "gIBOcUSTe2El",
        "outputId": "2ad40330-9365-41c9-c2dc-4d42d445ac26",
        "colab": {
          "base_uri": "https://localhost:8080/",
          "height": 54
        }
      },
      "source": [
        "print(test_tweets.iloc[4])"
      ],
      "execution_count": null,
      "outputs": [
        {
          "output_type": "stream",
          "text": [
            "The Government need to take an interest in the distribution and  of food and essential supplies like soap and toilet roll. We canÂt let panic buyers hold us all to ransom #coronavirus #covid19UK\n"
          ],
          "name": "stdout"
        }
      ]
    },
    {
      "cell_type": "code",
      "metadata": {
        "id": "Rn3ohAtre8q-",
        "outputId": "850b3f00-219f-4a7e-e63a-64cef31ff251",
        "colab": {
          "base_uri": "https://localhost:8080/",
          "height": 34
        }
      },
      "source": [
        "print(\"Negative\" if y_test[4][0] == 1 else \"Positive\")"
      ],
      "execution_count": null,
      "outputs": [
        {
          "output_type": "stream",
          "text": [
            "Positive\n"
          ],
          "name": "stdout"
        }
      ]
    },
    {
      "cell_type": "code",
      "metadata": {
        "id": "Vo6z7jq9fHB7",
        "outputId": "5609ec32-3bfe-45bb-aadd-58fdbf989c78",
        "colab": {
          "base_uri": "https://localhost:8080/",
          "height": 34
        }
      },
      "source": [
        "model.predict(X_test[4:5])"
      ],
      "execution_count": null,
      "outputs": [
        {
          "output_type": "execute_result",
          "data": {
            "text/plain": [
              "array([[0.85604244, 0.14395761]], dtype=float32)"
            ]
          },
          "metadata": {
            "tags": []
          },
          "execution_count": 61
        }
      ]
    },
    {
      "cell_type": "code",
      "metadata": {
        "id": "z-dGsbQ2fTfA",
        "outputId": "e7b6ef37-28c8-44cc-9804-34f9cf076d6f",
        "colab": {
          "base_uri": "https://localhost:8080/",
          "height": 54
        }
      },
      "source": [
        "print(test_tweets.iloc[5])"
      ],
      "execution_count": null,
      "outputs": [
        {
          "output_type": "stream",
          "text": [
            "#Beef prices rise in #Karachi, butchers blame the #coronavirus: Consumers say they're just making excuses to jack up prices https://t.co/CLvpEHTy7m https://t.co/OX7dlF3ALD\n"
          ],
          "name": "stdout"
        }
      ]
    },
    {
      "cell_type": "code",
      "metadata": {
        "id": "4DUVdJHefpC5",
        "outputId": "dd05048d-0174-4f6e-f8e5-a1fe73ca48f8",
        "colab": {
          "base_uri": "https://localhost:8080/",
          "height": 34
        }
      },
      "source": [
        "y_test[4]"
      ],
      "execution_count": null,
      "outputs": [
        {
          "output_type": "execute_result",
          "data": {
            "text/plain": [
              "array([0., 1.])"
            ]
          },
          "metadata": {
            "tags": []
          },
          "execution_count": 63
        }
      ]
    },
    {
      "cell_type": "code",
      "metadata": {
        "id": "Q4hDMePkflx3",
        "outputId": "a0cefebb-e9f9-4d9e-ada0-b3faaa2fda73",
        "colab": {
          "base_uri": "https://localhost:8080/",
          "height": 34
        }
      },
      "source": [
        "print(\"Negative\" if y_test[5][0] == 1 else \"Positive\")"
      ],
      "execution_count": null,
      "outputs": [
        {
          "output_type": "stream",
          "text": [
            "Negative\n"
          ],
          "name": "stdout"
        }
      ]
    },
    {
      "cell_type": "code",
      "metadata": {
        "id": "73IOrreuf1vu",
        "outputId": "0b064c22-e8aa-46ba-c9bb-a7a5a7e42a23",
        "colab": {
          "base_uri": "https://localhost:8080/",
          "height": 34
        }
      },
      "source": [
        "model.predict(X_test[5:6])"
      ],
      "execution_count": null,
      "outputs": [
        {
          "output_type": "execute_result",
          "data": {
            "text/plain": [
              "array([[0.9956683 , 0.00433173]], dtype=float32)"
            ]
          },
          "metadata": {
            "tags": []
          },
          "execution_count": 65
        }
      ]
    },
    {
      "cell_type": "code",
      "metadata": {
        "id": "YCUfCv2BgDKG",
        "outputId": "0a24db02-0bda-4e2c-c4dd-2cb83eedbfa4",
        "colab": {
          "base_uri": "https://localhost:8080/",
          "height": 68
        }
      },
      "source": [
        "print(test_tweets.iloc[6])"
      ],
      "execution_count": null,
      "outputs": [
        {
          "output_type": "stream",
          "text": [
            "Scammers are taking advantage of fears surrounding the #Coronavirus.\r\r\n",
            "\r\r\n",
            "Visit https://t.co/oCocBAFeM0 to learn how you can protect yourself. https://t.co/SU8NVpY05E\n"
          ],
          "name": "stdout"
        }
      ]
    },
    {
      "cell_type": "code",
      "metadata": {
        "id": "gvkmmUfXgJeF",
        "outputId": "dc034483-9400-43eb-b864-ca6a961f7527",
        "colab": {
          "base_uri": "https://localhost:8080/",
          "height": 34
        }
      },
      "source": [
        "print(\"Negative\" if y_test[5][0] == 1 else \"Positive\")"
      ],
      "execution_count": null,
      "outputs": [
        {
          "output_type": "stream",
          "text": [
            "Negative\n"
          ],
          "name": "stdout"
        }
      ]
    },
    {
      "cell_type": "code",
      "metadata": {
        "id": "pW1Xs8KpgTMK",
        "outputId": "cdbeb54e-019a-4452-d125-5d88f2027db5",
        "colab": {
          "base_uri": "https://localhost:8080/",
          "height": 34
        }
      },
      "source": [
        "model.predict(X_test[6:7])"
      ],
      "execution_count": null,
      "outputs": [
        {
          "output_type": "execute_result",
          "data": {
            "text/plain": [
              "array([[0.5840314 , 0.41596863]], dtype=float32)"
            ]
          },
          "metadata": {
            "tags": []
          },
          "execution_count": 68
        }
      ]
    },
    {
      "cell_type": "code",
      "metadata": {
        "id": "HBAJ7i2KswEG",
        "outputId": "913f3c21-fbf0-4746-8688-9cda426a156a",
        "colab": {
          "base_uri": "https://localhost:8080/",
          "height": 105
        }
      },
      "source": [
        "import nltk\n",
        "nltk.download('vader_lexicon')\n",
        "from nltk.sentiment.vader import SentimentIntensityAnalyzer"
      ],
      "execution_count": null,
      "outputs": [
        {
          "output_type": "stream",
          "text": [
            "[nltk_data] Downloading package vader_lexicon to /root/nltk_data...\n",
            "[nltk_data]   Package vader_lexicon is already up-to-date!\n"
          ],
          "name": "stdout"
        },
        {
          "output_type": "stream",
          "text": [
            "/usr/local/lib/python3.6/dist-packages/nltk/twitter/__init__.py:20: UserWarning: The twython library has not been installed. Some functionality from the twitter package will not be available.\n",
            "  warnings.warn(\"The twython library has not been installed. \"\n"
          ],
          "name": "stderr"
        }
      ]
    },
    {
      "cell_type": "code",
      "metadata": {
        "id": "u6xnfxhUs8KC"
      },
      "source": [
        "sid = SentimentIntensityAnalyzer()"
      ],
      "execution_count": null,
      "outputs": []
    },
    {
      "cell_type": "code",
      "metadata": {
        "id": "_JQyBqU8tCL5"
      },
      "source": [
        "df['scores'] = df['OriginalTweet'].apply(lambda tweet:sid.polarity_scores(tweet))"
      ],
      "execution_count": null,
      "outputs": []
    },
    {
      "cell_type": "code",
      "metadata": {
        "id": "QzzvjwUBubyB"
      },
      "source": [
        "df['compound'] = df['scores'].apply(lambda d:d['compound'])"
      ],
      "execution_count": null,
      "outputs": []
    },
    {
      "cell_type": "code",
      "metadata": {
        "id": "bJnrwj3ojrtN",
        "outputId": "4beac05f-68a5-4c41-d290-e6b4cb9f86d3",
        "colab": {
          "base_uri": "https://localhost:8080/",
          "height": 562
        }
      },
      "source": [
        "df['OriginalTweet'][2]"
      ],
      "execution_count": null,
      "outputs": [
        {
          "output_type": "error",
          "ename": "KeyError",
          "evalue": "ignored",
          "traceback": [
            "\u001b[0;31m---------------------------------------------------------------------------\u001b[0m",
            "\u001b[0;31mKeyError\u001b[0m                                  Traceback (most recent call last)",
            "\u001b[0;32m/usr/local/lib/python3.6/dist-packages/pandas/core/indexes/base.py\u001b[0m in \u001b[0;36mget_loc\u001b[0;34m(self, key, method, tolerance)\u001b[0m\n\u001b[1;32m   2890\u001b[0m             \u001b[0;32mtry\u001b[0m\u001b[0;34m:\u001b[0m\u001b[0;34m\u001b[0m\u001b[0;34m\u001b[0m\u001b[0m\n\u001b[0;32m-> 2891\u001b[0;31m                 \u001b[0;32mreturn\u001b[0m \u001b[0mself\u001b[0m\u001b[0;34m.\u001b[0m\u001b[0m_engine\u001b[0m\u001b[0;34m.\u001b[0m\u001b[0mget_loc\u001b[0m\u001b[0;34m(\u001b[0m\u001b[0mcasted_key\u001b[0m\u001b[0;34m)\u001b[0m\u001b[0;34m\u001b[0m\u001b[0;34m\u001b[0m\u001b[0m\n\u001b[0m\u001b[1;32m   2892\u001b[0m             \u001b[0;32mexcept\u001b[0m \u001b[0mKeyError\u001b[0m \u001b[0;32mas\u001b[0m \u001b[0merr\u001b[0m\u001b[0;34m:\u001b[0m\u001b[0;34m\u001b[0m\u001b[0;34m\u001b[0m\u001b[0m\n",
            "\u001b[0;32mpandas/_libs/index.pyx\u001b[0m in \u001b[0;36mpandas._libs.index.IndexEngine.get_loc\u001b[0;34m()\u001b[0m\n",
            "\u001b[0;32mpandas/_libs/index.pyx\u001b[0m in \u001b[0;36mpandas._libs.index.IndexEngine.get_loc\u001b[0;34m()\u001b[0m\n",
            "\u001b[0;32mpandas/_libs/hashtable_class_helper.pxi\u001b[0m in \u001b[0;36mpandas._libs.hashtable.Int64HashTable.get_item\u001b[0;34m()\u001b[0m\n",
            "\u001b[0;32mpandas/_libs/hashtable_class_helper.pxi\u001b[0m in \u001b[0;36mpandas._libs.hashtable.Int64HashTable.get_item\u001b[0;34m()\u001b[0m\n",
            "\u001b[0;31mKeyError\u001b[0m: 2",
            "\nThe above exception was the direct cause of the following exception:\n",
            "\u001b[0;31mKeyError\u001b[0m                                  Traceback (most recent call last)",
            "\u001b[0;32m<ipython-input-73-c8035cf8aa9a>\u001b[0m in \u001b[0;36m<module>\u001b[0;34m()\u001b[0m\n\u001b[0;32m----> 1\u001b[0;31m \u001b[0mdf\u001b[0m\u001b[0;34m[\u001b[0m\u001b[0;34m'OriginalTweet'\u001b[0m\u001b[0;34m]\u001b[0m\u001b[0;34m[\u001b[0m\u001b[0;36m2\u001b[0m\u001b[0;34m]\u001b[0m\u001b[0;34m\u001b[0m\u001b[0;34m\u001b[0m\u001b[0m\n\u001b[0m",
            "\u001b[0;32m/usr/local/lib/python3.6/dist-packages/pandas/core/series.py\u001b[0m in \u001b[0;36m__getitem__\u001b[0;34m(self, key)\u001b[0m\n\u001b[1;32m    880\u001b[0m \u001b[0;34m\u001b[0m\u001b[0m\n\u001b[1;32m    881\u001b[0m         \u001b[0;32melif\u001b[0m \u001b[0mkey_is_scalar\u001b[0m\u001b[0;34m:\u001b[0m\u001b[0;34m\u001b[0m\u001b[0;34m\u001b[0m\u001b[0m\n\u001b[0;32m--> 882\u001b[0;31m             \u001b[0;32mreturn\u001b[0m \u001b[0mself\u001b[0m\u001b[0;34m.\u001b[0m\u001b[0m_get_value\u001b[0m\u001b[0;34m(\u001b[0m\u001b[0mkey\u001b[0m\u001b[0;34m)\u001b[0m\u001b[0;34m\u001b[0m\u001b[0;34m\u001b[0m\u001b[0m\n\u001b[0m\u001b[1;32m    883\u001b[0m \u001b[0;34m\u001b[0m\u001b[0m\n\u001b[1;32m    884\u001b[0m         if (\n",
            "\u001b[0;32m/usr/local/lib/python3.6/dist-packages/pandas/core/series.py\u001b[0m in \u001b[0;36m_get_value\u001b[0;34m(self, label, takeable)\u001b[0m\n\u001b[1;32m    989\u001b[0m \u001b[0;34m\u001b[0m\u001b[0m\n\u001b[1;32m    990\u001b[0m         \u001b[0;31m# Similar to Index.get_value, but we do not fall back to positional\u001b[0m\u001b[0;34m\u001b[0m\u001b[0;34m\u001b[0m\u001b[0;34m\u001b[0m\u001b[0m\n\u001b[0;32m--> 991\u001b[0;31m         \u001b[0mloc\u001b[0m \u001b[0;34m=\u001b[0m \u001b[0mself\u001b[0m\u001b[0;34m.\u001b[0m\u001b[0mindex\u001b[0m\u001b[0;34m.\u001b[0m\u001b[0mget_loc\u001b[0m\u001b[0;34m(\u001b[0m\u001b[0mlabel\u001b[0m\u001b[0;34m)\u001b[0m\u001b[0;34m\u001b[0m\u001b[0;34m\u001b[0m\u001b[0m\n\u001b[0m\u001b[1;32m    992\u001b[0m         \u001b[0;32mreturn\u001b[0m \u001b[0mself\u001b[0m\u001b[0;34m.\u001b[0m\u001b[0mindex\u001b[0m\u001b[0;34m.\u001b[0m\u001b[0m_get_values_for_loc\u001b[0m\u001b[0;34m(\u001b[0m\u001b[0mself\u001b[0m\u001b[0;34m,\u001b[0m \u001b[0mloc\u001b[0m\u001b[0;34m,\u001b[0m \u001b[0mlabel\u001b[0m\u001b[0;34m)\u001b[0m\u001b[0;34m\u001b[0m\u001b[0;34m\u001b[0m\u001b[0m\n\u001b[1;32m    993\u001b[0m \u001b[0;34m\u001b[0m\u001b[0m\n",
            "\u001b[0;32m/usr/local/lib/python3.6/dist-packages/pandas/core/indexes/base.py\u001b[0m in \u001b[0;36mget_loc\u001b[0;34m(self, key, method, tolerance)\u001b[0m\n\u001b[1;32m   2891\u001b[0m                 \u001b[0;32mreturn\u001b[0m \u001b[0mself\u001b[0m\u001b[0;34m.\u001b[0m\u001b[0m_engine\u001b[0m\u001b[0;34m.\u001b[0m\u001b[0mget_loc\u001b[0m\u001b[0;34m(\u001b[0m\u001b[0mcasted_key\u001b[0m\u001b[0;34m)\u001b[0m\u001b[0;34m\u001b[0m\u001b[0;34m\u001b[0m\u001b[0m\n\u001b[1;32m   2892\u001b[0m             \u001b[0;32mexcept\u001b[0m \u001b[0mKeyError\u001b[0m \u001b[0;32mas\u001b[0m \u001b[0merr\u001b[0m\u001b[0;34m:\u001b[0m\u001b[0;34m\u001b[0m\u001b[0;34m\u001b[0m\u001b[0m\n\u001b[0;32m-> 2893\u001b[0;31m                 \u001b[0;32mraise\u001b[0m \u001b[0mKeyError\u001b[0m\u001b[0;34m(\u001b[0m\u001b[0mkey\u001b[0m\u001b[0;34m)\u001b[0m \u001b[0;32mfrom\u001b[0m \u001b[0merr\u001b[0m\u001b[0;34m\u001b[0m\u001b[0;34m\u001b[0m\u001b[0m\n\u001b[0m\u001b[1;32m   2894\u001b[0m \u001b[0;34m\u001b[0m\u001b[0m\n\u001b[1;32m   2895\u001b[0m         \u001b[0;32mif\u001b[0m \u001b[0mtolerance\u001b[0m \u001b[0;32mis\u001b[0m \u001b[0;32mnot\u001b[0m \u001b[0;32mNone\u001b[0m\u001b[0;34m:\u001b[0m\u001b[0;34m\u001b[0m\u001b[0;34m\u001b[0m\u001b[0m\n",
            "\u001b[0;31mKeyError\u001b[0m: 2"
          ]
        }
      ]
    },
    {
      "cell_type": "code",
      "metadata": {
        "id": "cGl2JZZZutdl"
      },
      "source": [
        "df['Sentiment'][2]"
      ],
      "execution_count": null,
      "outputs": []
    },
    {
      "cell_type": "code",
      "metadata": {
        "id": "RSAB4oAcu0f7"
      },
      "source": [
        "positive_tweets = df[df.Sentiment == 'Positive']"
      ],
      "execution_count": null,
      "outputs": []
    },
    {
      "cell_type": "code",
      "metadata": {
        "id": "nVsPlDNZLSw-"
      },
      "source": [
        "positive_tweets.head(10)"
      ],
      "execution_count": null,
      "outputs": []
    },
    {
      "cell_type": "code",
      "metadata": {
        "id": "SlHPddM-LWNa"
      },
      "source": [
        "positive_tweets_text = \" \".join(positive_tweets.OriginalTweet.to_numpy().tolist())"
      ],
      "execution_count": null,
      "outputs": []
    },
    {
      "cell_type": "code",
      "metadata": {
        "id": "Y8XcrztsMIUU"
      },
      "source": [
        "positive_tweets_text"
      ],
      "execution_count": null,
      "outputs": []
    },
    {
      "cell_type": "code",
      "metadata": {
        "id": "LrJ26dblMJ1c"
      },
      "source": [
        "positive_tweets_cloud = WordCloud(stopwords=STOPWORDS, background_color=\"white\").generate(positive_tweets_text)"
      ],
      "execution_count": null,
      "outputs": []
    },
    {
      "cell_type": "code",
      "metadata": {
        "id": "iTq1MJE-MevN"
      },
      "source": [
        "positive_tweets_cloud"
      ],
      "execution_count": null,
      "outputs": []
    },
    {
      "cell_type": "code",
      "metadata": {
        "id": "Dw2cgNBuM-5t"
      },
      "source": [
        "def show_word_cloud(cloud):\n",
        "  plt.figure(figsize=(16, 10))\n",
        "  plt.imshow(cloud, interpolation='bilinear')\n",
        "  plt.axis('off')\n",
        "  plt.show"
      ],
      "execution_count": null,
      "outputs": []
    },
    {
      "cell_type": "code",
      "metadata": {
        "id": "a1Dc5TMcNXlu"
      },
      "source": [
        "show_word_cloud(positive_tweets_cloud)"
      ],
      "execution_count": null,
      "outputs": []
    },
    {
      "cell_type": "code",
      "metadata": {
        "id": "PnrWnJF8Nacy"
      },
      "source": [
        "all_positive_tweets = df[(df.Sentiment == 'Postive') | (df.Sentiment == 'Extremely Positive')]"
      ],
      "execution_count": null,
      "outputs": []
    },
    {
      "cell_type": "code",
      "metadata": {
        "id": "mvajNJHVOnGt"
      },
      "source": [
        "all_negative_tweets = df[(df.Sentiment == 'Negative') | (df.Sentiment == 'Extremely Negative')]"
      ],
      "execution_count": null,
      "outputs": []
    },
    {
      "cell_type": "code",
      "metadata": {
        "id": "5RJuXrBaO2A-"
      },
      "source": [
        "all_positive_tweets.tail(50)"
      ],
      "execution_count": null,
      "outputs": []
    },
    {
      "cell_type": "code",
      "metadata": {
        "id": "RfhxeAYDO5Gl"
      },
      "source": [
        "negative_tweets_text = \" \".join(all_negative_tweets.OriginalTweet.to_numpy().tolist())"
      ],
      "execution_count": null,
      "outputs": []
    },
    {
      "cell_type": "code",
      "metadata": {
        "id": "2y25jp4PP-i2"
      },
      "source": [
        "negative_tweets_text"
      ],
      "execution_count": null,
      "outputs": []
    },
    {
      "cell_type": "code",
      "metadata": {
        "id": "EtMmW_JdP_3k"
      },
      "source": [
        "# positive_tweets_cloud = WordCloud(stopwords=STOPWORDS, background_color=\"white\").generate(positive_tweets_text)\n",
        "\n",
        "def generate_cloud(text):\n",
        "  cloud_text = WordCloud(stopwords=STOPWORDS, background_color=\"white\").generate(text)\n",
        "  show_word_cloud(cloud_text)"
      ],
      "execution_count": null,
      "outputs": []
    },
    {
      "cell_type": "code",
      "metadata": {
        "id": "swEd6buLQa6Y"
      },
      "source": [
        "generate_cloud(negative_tweets_text)"
      ],
      "execution_count": null,
      "outputs": []
    },
    {
      "cell_type": "code",
      "metadata": {
        "id": "vAgYlEBYQeoQ"
      },
      "source": [
        "all_negative_tweets"
      ],
      "execution_count": null,
      "outputs": []
    },
    {
      "cell_type": "code",
      "metadata": {
        "id": "eLK3QmbMj_HA"
      },
      "source": [
        ""
      ],
      "execution_count": null,
      "outputs": []
    }
  ]
}